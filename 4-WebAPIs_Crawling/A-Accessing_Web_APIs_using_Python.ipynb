{
 "cells": [
  {
   "cell_type": "markdown",
   "metadata": {},
   "source": [
    "## Interacting with Web APIs\n",
    "\n",
    "In our first class, we examined how to use `curl` to issue requests against web services. We will now see how to achieve the same in Python:"
   ]
  },
  {
   "cell_type": "code",
   "execution_count": null,
   "metadata": {
    "collapsed": false
   },
   "outputs": [],
   "source": [
    "# We first import the requests library\n",
    "import requests\n",
    "url = 'http://freegeoip.net/json/'\n",
    "resp = requests.get(url)"
   ]
  },
  {
   "cell_type": "code",
   "execution_count": null,
   "metadata": {
    "collapsed": false
   },
   "outputs": [],
   "source": [
    "# The resp object encapsulates the \"response\" of the server\n",
    "# Notice the status code that is displayed. \n",
    "# Code 200 means that things went fine\n",
    "# Code 404 means that the URL was not found\n",
    "# Codes 5xx mean that something went wrong\n",
    "\n",
    "resp"
   ]
  },
  {
   "cell_type": "code",
   "execution_count": null,
   "metadata": {
    "collapsed": false
   },
   "outputs": [],
   "source": [
    "# Let's see the content of the response\n",
    "# As you can see, it contain the JSON response\n",
    "resp.text"
   ]
  },
  {
   "cell_type": "code",
   "execution_count": null,
   "metadata": {
    "collapsed": false
   },
   "outputs": [],
   "source": [
    "# We want to transform the JSON file into a Python dictionary object\n",
    "# For that we will use the json library\n",
    "import json\n",
    "\n",
    "# The loads (LOADS = LOAD from String) function reads a string that represents a JSON file\n",
    "data = json.loads(resp.text)"
   ]
  },
  {
   "cell_type": "code",
   "execution_count": null,
   "metadata": {
    "collapsed": false
   },
   "outputs": [],
   "source": [
    "# Now data is a Python dictionary\n",
    "# The u'....' characters mean that the string is represented in Unicode\n",
    "data"
   ]
  },
  {
   "cell_type": "code",
   "execution_count": null,
   "metadata": {
    "collapsed": false
   },
   "outputs": [],
   "source": [
    "# And we can access the fields of the JSON as we normally access Python dictionary entries\n",
    "print \"Lon:\", data[\"longitude\"], \"Lat:\", data[\"latitude\"]"
   ]
  },
  {
   "cell_type": "markdown",
   "metadata": {},
   "source": [
    "### Exercise\n",
    "\n",
    "In the UNIX module, you had to use curl, jq, and Unix pipes to read the location of your computer using the GeoIP API, and then use the OpenWeatherMap to query the API and fetch the temperature. Now, repeat the exercise using Python."
   ]
  },
  {
   "cell_type": "code",
   "execution_count": null,
   "metadata": {
    "collapsed": false
   },
   "outputs": [],
   "source": [
    "#your code here\n"
   ]
  },
  {
   "cell_type": "markdown",
   "metadata": {},
   "source": [
    "### Solution for Exercise"
   ]
  },
  {
   "cell_type": "code",
   "execution_count": null,
   "metadata": {
    "collapsed": false,
    "scrolled": true
   },
   "outputs": [],
   "source": [
    "import requests\n",
    "import json\n",
    "url = 'http://freegeoip.net/json/'\n",
    "resp = requests.get(url)\n",
    "data = json.loads(resp.text)\n",
    "lon = data[\"longitude\"]\n",
    "lat = data[\"latitude\"]\n",
    "\n",
    "# http://api.openweathermap.org/data/2.5/weather?q=New%20York,NY,USA\n",
    "\n",
    "url2 = 'http://api.openweathermap.org/data/2.5/weather?' + \\\n",
    "    '&lat=' + str(lat) + \\\n",
    "    '&lon=' + str(lon) + \\\n",
    "    '&appid=ffb7b9808e07c9135bdcc7d1e867253d' + \\\n",
    "    '&units=imperial' + \\\n",
    "    '&mode=json'\n",
    "print url2\n",
    "resp = requests.get(url2)\n",
    "data = json.loads(resp.text)\n",
    "data"
   ]
  },
  {
   "cell_type": "markdown",
   "metadata": {},
   "source": [
    "## Beyond the basics: Parameters and Headers"
   ]
  },
  {
   "cell_type": "markdown",
   "metadata": {},
   "source": [
    "The first call that we submitted was very simple. We just fetched a URL, which was represented as a string. However, calling web services by manually concatenating strings to create URLs is not a good practice. It is always better to use a dictionary to pass the parameters to the API call; furthermore, we will often need to pass a set of _headers_ to the API call (as in the case of Mashape).\n",
    "\n",
    "Let's play a little bit with the FacePlusPlus API, with which we toyed around in our first session:"
   ]
  },
  {
   "cell_type": "code",
   "execution_count": null,
   "metadata": {
    "collapsed": false
   },
   "outputs": [],
   "source": [
    "import requests\n",
    "import re\n",
    "import json\n",
    "\n",
    "facepp_url = \"https://faceplusplus-faceplusplus.p.mashape.com/detection/detect\"\n",
    "api_key = \"mVBdIZB8RQmshLh78IqUMiS75F94p1tbCo3jsnbsVI8aujOWWC\"\n",
    "img_url = \"http://static01.nyt.com/images/2015/01/25/magazine/25prader-willi-ss-slide-MQFT/25prader-willi-ss-slide-MQFT-jumbo.jpg\"\n",
    "\n",
    "headers = {\n",
    "  \"X-Mashape-Key\": \"zG3wec50exmshxNoF1NMHNRH37GYp1d7oW8jsnWwIMTeMmALxg\",\n",
    "  \"Accept\": \"application/json\"\n",
    "}\n",
    "\n",
    "\n",
    "parameters = {\n",
    "    'attributes': 'glass%2Cpose%2Cgender%2Cage%2Crace%2Csmiling',\n",
    "    'url': img_url\n",
    "}\n",
    "\n",
    "resp = requests.get(facepp_url, params=parameters, headers=headers, verify=False)\n",
    "\n",
    "data = json.loads(resp.text)\n",
    "\n",
    "data"
   ]
  },
  {
   "cell_type": "code",
   "execution_count": null,
   "metadata": {
    "collapsed": false
   },
   "outputs": [],
   "source": [
    "# We can also pretty print the dictionary object\n",
    "print(json.dumps(data, indent=2))"
   ]
  },
  {
   "cell_type": "code",
   "execution_count": null,
   "metadata": {
    "collapsed": false
   },
   "outputs": [],
   "source": [
    "# And here is a more generic way to pretty print Python data structures, which works for many objects\n",
    "import pprint\n",
    "pprint.pprint(data)"
   ]
  },
  {
   "cell_type": "code",
   "execution_count": null,
   "metadata": {
    "collapsed": false
   },
   "outputs": [],
   "source": [
    "len(data[\"face\"])"
   ]
  },
  {
   "cell_type": "markdown",
   "metadata": {},
   "source": [
    "### Interacting with Alchemy API; POST vs GET\n",
    "\n",
    "Sometimes, the parameters that we need to pass to the API are too long (e.g., analyzing a piece of long text for sentiment). In such cases, we need to use the \"POST\" options as opposed to the \"GET\" function (although admittedly, many APIs will try to be forgiving)."
   ]
  },
  {
   "cell_type": "code",
   "execution_count": null,
   "metadata": {
    "collapsed": false
   },
   "outputs": [],
   "source": [
    "import requests\n",
    "import json\n",
    "\n",
    "url = \"http://access.alchemyapi.com/calls/text/TextGetTextSentiment\"\n",
    "api_key = '3d0b6858f7ef32fdf27ad402f4a9c270c9685d84'\n",
    "text = '''\n",
    "If things go as promised, Trump won’t be there Thursday when Fox hosts the final Republican debate before Monday’s Iowa presidential caucuses. He says he’s backing out because of a taunting statement from Fox, though his detractors accuse him of dodging a last showdown with his chief rival, Sen. Ted Cruz (Tex.). Instead, Trump has made plans to materialize elsewhere in Iowa, hosting a benefit for wounded veterans — counter-programming on a ­Trumpian scale of swagger.\n",
    "\n",
    "His threatened absence from the debate stage is a demonstration of Trump’s perception of his own self-worth, his verifiable status as a ratings-generating gargantuan whose screen persona can translate into millions of advertising dollars. In a sense, it’s an act of subversion by a candidate who has broken all the normal rules of modern campaigns. But it’s also a manifestation of Trump’s philosophy about getting what he wants when he wants it.\n",
    "'''\n",
    "\n",
    "headers = {\n",
    "  \"Accept\": \"application/json\"\n",
    "}\n",
    "\n",
    "\n",
    "parameters = {\n",
    "    'outputMode': 'json',\n",
    "    'apikey' : api_key,\n",
    "    'text': text\n",
    "}\n",
    "\n",
    "resp = requests.post(url, params=parameters, headers=headers)\n",
    "data = json.loads(resp.text)\n",
    "\n",
    "data"
   ]
  }
 ],
 "metadata": {
  "kernelspec": {
   "display_name": "Python 2",
   "language": "python",
   "name": "python2"
  },
  "language_info": {
   "codemirror_mode": {
    "name": "ipython",
    "version": 2
   },
   "file_extension": ".py",
   "mimetype": "text/x-python",
   "name": "python",
   "nbconvert_exporter": "python",
   "pygments_lexer": "ipython2",
   "version": "2.7.6"
  }
 },
 "nbformat": 4,
 "nbformat_minor": 0
}
