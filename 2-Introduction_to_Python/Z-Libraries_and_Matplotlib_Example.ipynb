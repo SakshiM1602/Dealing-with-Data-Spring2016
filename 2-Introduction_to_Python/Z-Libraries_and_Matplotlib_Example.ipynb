{
 "cells": [
  {
   "cell_type": "markdown",
   "metadata": {},
   "source": [
    "Importing Libraries\n",
    "-------------------\n",
    "\n",
    "One of the greatest strengths of the python programming language is its rich set of libraries- pre-written code that implements a variety of functionality. For the data scientist, python's libraries (also called \"modules\") are particularly valuable. With a little bit of research into the details of python's libraries, a lot of common data  tasks are little more than a function call away. Libraries exist for doing data cleaning, analysis, visualization, machine learning and statistics. \n",
    "\n",
    "[This XKCD cartoon](http://xkcd.com/353/) pretty much summarizes what Python libraries can do...\n",
    "\n",
    "<img src=\"http://imgs.xkcd.com/comics/python.png\">\n",
    "\n",
    "In order to have access to a libraries functionality in a block of code, you must first import it. Importing a library tells python that while executing your code, it should not only consider the code and functions that you have written, but code and functions in the libraries that you have imported.\n",
    "\n",
    "There are several ways to import modules in python, some have ebetter properties than others. Below we see the preferred general way to import modules. In documentation, you may see other ways to import libraries (`from a_library import foo`). There is no risk to just copying this pattern if it is known to work. \n",
    "\n",
    "Imagine I want to import a library called `some_python_library`. This can be done using the import commands. All code below that import statement has access to the library contents.\n",
    "\n",
    "+ `import some_python_library`: imports the module `some_python_library`, and creates a reference to that module in the current namespace. Or in other words, after you’ve run this statement, you can use `some_python_library.name` to refer to things defined in module `some_python_library`.\n",
    "\n",
    "+ `import some_python_library as plib`: imports the module `some_python_library` and sets an alias for that library that may be easier to refer to. To refer to a thing defined in the library `some_python_library`, use `plib.name`. \n",
    "\n",
    "In practice you'll see the second pattern used very frequently; `pandas` referred to as `pd`, `numpy` referred to as `np`, etc. "
   ]
  },
  {
   "cell_type": "code",
   "execution_count": 1,
   "metadata": {
    "collapsed": false
   },
   "outputs": [
    {
     "name": "stdout",
     "output_type": "stream",
     "text": [
      "1.41421356237\n"
     ]
    }
   ],
   "source": [
    "import math\n",
    "number = 2\n",
    "print math.sqrt(number)"
   ]
  },
  {
   "cell_type": "code",
   "execution_count": 2,
   "metadata": {
    "collapsed": false
   },
   "outputs": [
    {
     "name": "stdout",
     "output_type": "stream",
     "text": [
      "0.69314718056\n"
     ]
    }
   ],
   "source": [
    "import math as m\n",
    "print m.log(number)"
   ]
  },
  {
   "cell_type": "markdown",
   "metadata": {},
   "source": [
    "### Example: Matplotlib\n",
    "\n",
    "Matplotlib is one of the first python libraries a budding data scientist is likely to encounter. Matplotlib is a feature-rich plotting framework, capable of most plots you'll likely need. The interface to the matplotlib module mimics the plotting functionality in Matlab, another language and environment for scientific computing. If you're familiar with Matlab plots, matplotlib will seem very familiar. Even the plots look almost identical. \n",
    "\n",
    "Here, we'll cover some basic functionality of matplotlib, line and bar plots and histograms. As with most content convered in this course, this is just scratching the surface. For more info, including many great examples, please consult the [official matplotlib documentation](http://matplotlib.org/). A typical pattern for me when plotting things in python is to find an example that closely mirrors what I'm trying to do, copy this, and tweak until i get things right.\n",
    "\n",
    "Note: to get plots to appear inline in ipython notebooks, you must invoke the \"magic function\" `%matplotlib inline`. To have a stand-alone python app plot in a new window, use `plt.show()`.\n",
    "\n",
    "In most cases, the input to matplotlib plotting functions is arrays of numerical types,  floats or integers. "
   ]
  },
  {
   "cell_type": "code",
   "execution_count": 3,
   "metadata": {
    "collapsed": false
   },
   "outputs": [
    {
     "data": {
      "image/png": "[encoded data removed]",
      "text/plain": [
       "<matplotlib.figure.Figure at 0x7f43347887d0>"
      ]
     },
     "metadata": {},
     "output_type": "display_data"
    }
   ],
   "source": [
    "# used to embed plots inside an ipython notebook\n",
    "%matplotlib inline \n",
    "import matplotlib.pyplot as plt\n",
    "\n",
    "# really simple example:\n",
    "y = [1,2,3,4,5,4,3,2,1]\n",
    "x = [1,2,3,4,5,6,7,8,9]\n",
    "plt.plot(x, y)\n",
    "plt.plot([1,2,3,4])\n",
    "plt.ylabel('some numbers')\n",
    "plt.show()"
   ]
  },
  {
   "cell_type": "code",
   "execution_count": 4,
   "metadata": {
    "collapsed": false
   },
   "outputs": [
    {
     "name": "stdout",
     "output_type": "stream",
     "text": [
      "[  0.    0.1   0.2   0.3   0.4   0.5   0.6   0.7   0.8   0.9   1.    1.1\n",
      "   1.2   1.3   1.4   1.5   1.6   1.7   1.8   1.9   2.    2.1   2.2   2.3\n",
      "   2.4   2.5   2.6   2.7   2.8   2.9   3.    3.1   3.2   3.3   3.4   3.5\n",
      "   3.6   3.7   3.8   3.9   4.    4.1   4.2   4.3   4.4   4.5   4.6   4.7\n",
      "   4.8   4.9   5.    5.1   5.2   5.3   5.4   5.5   5.6   5.7   5.8   5.9\n",
      "   6.    6.1   6.2   6.3   6.4   6.5   6.6   6.7   6.8   6.9   7.    7.1\n",
      "   7.2   7.3   7.4   7.5   7.6   7.7   7.8   7.9   8.    8.1   8.2   8.3\n",
      "   8.4   8.5   8.6   8.7   8.8   8.9   9.    9.1   9.2   9.3   9.4   9.5\n",
      "   9.6   9.7   9.8   9.9  10. ]\n"
     ]
    }
   ],
   "source": [
    "import numpy as np\n",
    "\n",
    "X = np.linspace(0, 10, 101) #create values from 0 to 10, and use 101 values\n",
    "print X"
   ]
  },
  {
   "cell_type": "code",
   "execution_count": 5,
   "metadata": {
    "collapsed": false
   },
   "outputs": [
    {
     "data": {
      "text/plain": [
       "<matplotlib.text.Text at 0x7f4319aed550>"
      ]
     },
     "execution_count": 5,
     "metadata": {},
     "output_type": "execute_result"
    },
    {
     "data": {
      "image/png": "[encoded data removed]",
      "text/plain": [
       "<matplotlib.figure.Figure at 0x7f4334788590>"
      ]
     },
     "metadata": {},
     "output_type": "display_data"
    }
   ],
   "source": [
    "import numpy as np\n",
    "\n",
    "X = np.linspace(0, 10, 100001) #create values from 0 to 10, and use 10001 values\n",
    "Y = []\n",
    "\n",
    "for x in X:\n",
    "    y = math.sin(x)\n",
    "    Y.append(y)\n",
    "    \n",
    "plt.plot(X, Y, 'mx')\n",
    "plt.title('The Sine Wave')\n",
    "plt.xlabel('X')\n",
    "plt.ylabel('sin(X)')"
   ]
  },
  {
   "cell_type": "markdown",
   "metadata": {},
   "source": [
    "Notice that most of the functionality in matplotlib that we're using is in the sub-module `matplotlib.pyplot`. \n",
    "\n",
    "The third argument (i.e., the `'r-.'`) in the plot function `plt.plot(X, Y, 'r-.')` is a formatting specifier. This defines some properties for a line to be displayed. Some details:\n",
    "Color characters:\n",
    "\n",
    "+ `b`: blue\n",
    "\n",
    "+ `k`: black\n",
    "\n",
    "+ `r`: red\n",
    "\n",
    "+ `c`: cyan\n",
    "\n",
    "+ `m`: magenta\n",
    "\n",
    "+ `y`: yellow\n",
    "\n",
    "+ `g`: green\n",
    "\n",
    "+ `w`: white\n",
    "\n",
    "Some line/marker formatting specifiers:\n",
    "\n",
    "+ `-`: solid line style\n",
    "\n",
    "+ `--`: dashed line style\n",
    "\n",
    "+ `-.`: dash-dot line style\n",
    "\n",
    "+ `:`:  dotted line style\n",
    "\n",
    "+ `.`: point marker\n",
    "\n",
    "+ `,`: pixel marker\n",
    "\n",
    "+ `o`: circle marker\n",
    "\n",
    "+ `+`: plus marker\n",
    "\n",
    "+ `x`: x marker\n",
    "\n",
    "There are many other options for plots that can be specified. See [documentation](http://matplotlib.org/api/pyplot_api.html#matplotlib.pyplot.plot) for more info. We will also revisit this topic in the Visualization lectures.\n",
    "\n",
    "It is possible to plot multiple plots on the same y-axis. In order to do this, the Y data passed into the plot function must be a **list of lists**, each with the same length as the X data that is input:"
   ]
  },
  {
   "cell_type": "code",
   "execution_count": 6,
   "metadata": {
    "collapsed": false
   },
   "outputs": [
    {
     "data": {
      "text/plain": [
       "<matplotlib.legend.Legend at 0x7f4319b26590>"
      ]
     },
     "execution_count": 6,
     "metadata": {},
     "output_type": "execute_result"
    },
    {
     "data": {
      "image/png": "[encoded data removed]",
      "text/plain": [
       "<matplotlib.figure.Figure at 0x7f4319b26690>"
      ]
     },
     "metadata": {},
     "output_type": "display_data"
    }
   ],
   "source": [
    "Y = []\n",
    "for x in X:\n",
    "    y = [math.sin(x), math.cos(x), 0.1*x]\n",
    "    Y.append(y)\n",
    "\n",
    "plt.plot(X, Y)\n",
    "plt.legend(['sin(x)', 'cos(x)', 'x/10'])"
   ]
  },
  {
   "cell_type": "markdown",
   "metadata": {},
   "source": [
    "It is also possible to just plot Y data without corresponding X values. In this case, the index in the array is assumed to be X."
   ]
  },
  {
   "cell_type": "code",
   "execution_count": null,
   "metadata": {
    "collapsed": false
   },
   "outputs": [],
   "source": [
    "plt.plot(Y)\n",
    "plt.xlabel('index')\n",
    "plt.ylabel('f(x)')\n",
    "plt.legend(['sin(x)', 'cos(x)', 'x/10'])"
   ]
  },
  {
   "cell_type": "markdown",
   "metadata": {},
   "source": [
    "Alternately, multiple calls to plot can be made with differing data. Doing so overlays the subsequent plots, creating the same effect."
   ]
  },
  {
   "cell_type": "code",
   "execution_count": null,
   "metadata": {
    "collapsed": false
   },
   "outputs": [],
   "source": [
    "Y = []\n",
    "Z = []\n",
    "for x in X:\n",
    "    Y.append(math.sin(x))\n",
    "    Z.append(math.cos(x))\n",
    "    \n",
    "plt.plot(X, Y, 'b-.')\n",
    "plt.plot(X, Z, 'r--')\n",
    "plt.legend(['sin(x)', 'cos(x)'])"
   ]
  },
  {
   "cell_type": "markdown",
   "metadata": {},
   "source": [
    "### Bar Plots\n",
    "\n",
    "Bar plots are often a good way to compare data in categories. This is an easy matter with matplotlib, the interface is almost identical to the that used when making line plots. "
   ]
  },
  {
   "cell_type": "code",
   "execution_count": null,
   "metadata": {
    "collapsed": false
   },
   "outputs": [],
   "source": [
    "vals = [7, 6.2, 3, 5, 9]\n",
    "xval = [1, 2, 3, 4, 5]\n",
    "plt.bar(xval, vals)\n"
   ]
  },
  {
   "cell_type": "markdown",
   "metadata": {},
   "source": [
    "### Histograms\n",
    "\n",
    "Histograms are extremely useful for analyzing data. Histograms partition numerical data into a discrete number of buckets (called bins), and return the number of values within each bucket. Typically this is displayed as a bar plot."
   ]
  },
  {
   "cell_type": "code",
   "execution_count": null,
   "metadata": {
    "collapsed": false
   },
   "outputs": [],
   "source": [
    "Y = []\n",
    "for x in range(0,100000):\n",
    "    Y.append(np.random.randn())\n",
    "    \n",
    "plt.hist(Y, 50)"
   ]
  },
  {
   "cell_type": "code",
   "execution_count": null,
   "metadata": {
    "collapsed": true
   },
   "outputs": [],
   "source": []
  }
 ],
 "metadata": {
  "kernelspec": {
   "display_name": "Python 2",
   "language": "python",
   "name": "python2"
  },
  "language_info": {
   "codemirror_mode": {
    "name": "ipython",
    "version": 2
   },
   "file_extension": ".py",
   "mimetype": "text/x-python",
   "name": "python",
   "nbconvert_exporter": "python",
   "pygments_lexer": "ipython2",
   "version": "2.7.6"
  }
 },
 "nbformat": 4,
 "nbformat_minor": 0
}
