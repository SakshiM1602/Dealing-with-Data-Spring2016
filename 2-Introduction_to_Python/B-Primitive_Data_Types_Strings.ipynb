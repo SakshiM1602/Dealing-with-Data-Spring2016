{
 "cells": [
  {
   "cell_type": "markdown",
   "metadata": {},
   "source": [
    "Primitive Data Types\n",
    "--------------------\n",
    "\n",
    "These are the basic data types that constitute all of the more complex data structures in python. The basic data types are the following:\n",
    "\n",
    "* Strings (for text)\n",
    "* Numeric types (integers and decimals)\n",
    "* Booleans\n"
   ]
  },
  {
   "cell_type": "markdown",
   "metadata": {},
   "source": [
    "### String:\n",
    "\n",
    "String variables are used to store textual data, characters and sequences of characters. Can be specified by surrounding some text with single `'` or double `\"` quotes. "
   ]
  },
  {
   "cell_type": "code",
   "execution_count": null,
   "metadata": {
    "collapsed": false
   },
   "outputs": [],
   "source": [
    "str_1 = \"Hello World!\"\n",
    "print str_1\n",
    "\n",
    "str_1 = 'Hello World!'\n",
    "print str_1"
   ]
  },
  {
   "cell_type": "code",
   "execution_count": null,
   "metadata": {
    "collapsed": false
   },
   "outputs": [],
   "source": [
    "# Notice that we end the strings below with the \\n character, \n",
    "# which is the \"new line\" special character\n",
    "str_2 = \"Hello World!\\n\\n\\nHello World Twice!\"\n",
    "print str_2\n"
   ]
  },
  {
   "cell_type": "code",
   "execution_count": null,
   "metadata": {
    "collapsed": false
   },
   "outputs": [],
   "source": [
    "# Let's use the \\t character which is the special character for tab\n",
    "str_3 =\"Hello\\tWorld!\\tWe\\tare\\tfar\\taway\\n\"\n",
    "print str_3"
   ]
  },
  {
   "cell_type": "code",
   "execution_count": null,
   "metadata": {
    "collapsed": false
   },
   "outputs": [],
   "source": [
    "print \"I want to print backslash: \\\\\""
   ]
  },
  {
   "cell_type": "code",
   "execution_count": null,
   "metadata": {
    "collapsed": false
   },
   "outputs": [],
   "source": [
    "str_4 = 'This is a string within single quotes that can contain \"double quotes\" as part of the string\\n'\n",
    "print str_4"
   ]
  },
  {
   "cell_type": "code",
   "execution_count": null,
   "metadata": {
    "collapsed": false
   },
   "outputs": [],
   "source": [
    "str_5 = 'If we want to have \\'single quotes\\' in single quoted string we should escape them\\n'\n",
    "print str_5"
   ]
  },
  {
   "cell_type": "code",
   "execution_count": null,
   "metadata": {
    "collapsed": false
   },
   "outputs": [],
   "source": [
    "str_6 = \"Similarly, if we want to have \\\"double quotes\\\" in double quoted string we should escape them\\n\"\n",
    "print str_6"
   ]
  },
  {
   "cell_type": "code",
   "execution_count": null,
   "metadata": {
    "collapsed": false
   },
   "outputs": [],
   "source": [
    "str_7 = \"hello\"\n",
    "str_8 = \"world\"\n",
    "hello_world_message = str_7 + \" \" + str_8 + \"!\" \n",
    "print hello_world_message # note that + concatenates strings"
   ]
  },
  {
   "cell_type": "code",
   "execution_count": null,
   "metadata": {
    "collapsed": false
   },
   "outputs": [],
   "source": [
    "str_9 = '''\n",
    "If we want to have multiple lines in the string\n",
    "then we can use triple quotes: This is a multiline\n",
    "string!\n",
    "'''\n",
    "print str_9\n",
    "    "
   ]
  },
  {
   "cell_type": "code",
   "execution_count": null,
   "metadata": {
    "collapsed": false
   },
   "outputs": [],
   "source": [
    "# Triple quotes are useful for multiline pieces of text (e.g., newspaper articles)\n",
    "str_10 = \"\"\"\n",
    "(CNN)AirAsia Flight QZ8501 climbed rapidly before it crashed, a top Indonesian official said Tuesday, according to The Jakarta Post.\n",
    "\n",
    "Then the plane stalled, Transportation Minister Ignasius Jonan said at a parliamentary hearing, according to the AFP and Reuters news agencies.\n",
    "\n",
    "\"The plane, during the last minutes, went up faster than normal speed ... after then, it stalled. That is according to the data from the radar,\" Jonan said, according to the news agencies.\n",
    "\"\"\"\n",
    "print str_10"
   ]
  },
  {
   "cell_type": "markdown",
   "metadata": {},
   "source": [
    "#### \"Raw\" strings\n",
    "\n",
    "Prefix strings with `r` to indicate a `raw` string, where there are no escape characters like \\t, \\n etc. These will be handy when entering regular expressions."
   ]
  },
  {
   "cell_type": "code",
   "execution_count": null,
   "metadata": {
    "collapsed": false
   },
   "outputs": [],
   "source": [
    "print \"e.g., type C:\\teaching\\ instead of C:\\\\teaching\\\\)\""
   ]
  },
  {
   "cell_type": "code",
   "execution_count": null,
   "metadata": {
    "collapsed": false
   },
   "outputs": [],
   "source": [
    "print r\"e.g., type C:\\teaching\\ instead of C:\\\\teaching\\\\)\""
   ]
  },
  {
   "cell_type": "markdown",
   "metadata": {},
   "source": [
    "### Acessing parts of the string\n",
    "\n",
    "**Note: The following instructions will be re-used later for other data structures (e.g., lists), so pay attention!**\n",
    "\n",
    "Strings can be indexed (subscripted), with the first character having index 0. There is no separate character type; a character is simply a string of size one:"
   ]
  },
  {
   "cell_type": "code",
   "execution_count": null,
   "metadata": {
    "collapsed": false
   },
   "outputs": [],
   "source": [
    "word = 'Python'"
   ]
  },
  {
   "cell_type": "code",
   "execution_count": null,
   "metadata": {
    "collapsed": false
   },
   "outputs": [],
   "source": [
    "word[0]  # character in position 0"
   ]
  },
  {
   "cell_type": "code",
   "execution_count": null,
   "metadata": {
    "collapsed": false
   },
   "outputs": [],
   "source": [
    "word[1]"
   ]
  },
  {
   "cell_type": "code",
   "execution_count": null,
   "metadata": {
    "collapsed": false
   },
   "outputs": [],
   "source": [
    "word[5]  # character in position 5"
   ]
  },
  {
   "cell_type": "markdown",
   "metadata": {},
   "source": [
    "Indices may also be negative numbers, to start counting from the right:"
   ]
  },
  {
   "cell_type": "code",
   "execution_count": null,
   "metadata": {
    "collapsed": false
   },
   "outputs": [],
   "source": [
    "word[-1]  # last character"
   ]
  },
  {
   "cell_type": "code",
   "execution_count": null,
   "metadata": {
    "collapsed": false
   },
   "outputs": [],
   "source": [
    "word[-2]  # second-last character\n"
   ]
  },
  {
   "cell_type": "code",
   "execution_count": null,
   "metadata": {
    "collapsed": false
   },
   "outputs": [],
   "source": [
    "word[-6]"
   ]
  },
  {
   "cell_type": "markdown",
   "metadata": {},
   "source": [
    "In addition to indexing, slicing is also supported. While indexing is used to obtain individual characters, slicing allows you to obtain a substring:"
   ]
  },
  {
   "cell_type": "code",
   "execution_count": null,
   "metadata": {
    "collapsed": false
   },
   "outputs": [],
   "source": [
    "word[0:2]  # characters from position 0 (included) to 2 (excluded)"
   ]
  },
  {
   "cell_type": "code",
   "execution_count": null,
   "metadata": {
    "collapsed": false
   },
   "outputs": [],
   "source": [
    "word[2:5]  # characters from position 2 (included) to 5 (excluded)"
   ]
  },
  {
   "cell_type": "code",
   "execution_count": null,
   "metadata": {
    "collapsed": false
   },
   "outputs": [],
   "source": [
    "word[2:]  # characters from position 2 (included) to the end"
   ]
  },
  {
   "cell_type": "code",
   "execution_count": null,
   "metadata": {
    "collapsed": false
   },
   "outputs": [],
   "source": [
    "word[:3]  # characters from beginning (position 0) to position 3 (excluded)"
   ]
  },
  {
   "cell_type": "code",
   "execution_count": null,
   "metadata": {
    "collapsed": false
   },
   "outputs": [],
   "source": [
    "word[-3:] # last three characters"
   ]
  },
  {
   "cell_type": "code",
   "execution_count": null,
   "metadata": {
    "collapsed": false
   },
   "outputs": [],
   "source": [
    "word[-3:-1] # penultimate two charactrs"
   ]
  },
  {
   "cell_type": "markdown",
   "metadata": {},
   "source": [
    "#### Exercise\n",
    "\n",
    "* Assign the string 'Dealing with Data' to a Python variable. \n",
    "* Print the word 'Dealing' by using the indexing/slicing approach.\n",
    "* Print the word 'Data' by using the negative indexing/slicing approach."
   ]
  },
  {
   "cell_type": "code",
   "execution_count": null,
   "metadata": {
    "collapsed": false
   },
   "outputs": [],
   "source": [
    "# your own code here"
   ]
  },
  {
   "cell_type": "markdown",
   "metadata": {},
   "source": [
    "### Operations on Strings \n",
    "\n",
    "We've already seen one of the most common string operators, `+`, used for string concatenation, the indexing operation to get specific characters, and the slicing operation to get substrings. \n",
    "\n",
    "Below are some of the more commonly used string operations:\n",
    "\n",
    "+ `+` : concatenate two strings\n",
    "+ `len(str)`: length of a string, number of characters\n",
    "+ `str.upper()`: returns an uppercase version of a string\n",
    "+ `str.lower()`: returns a lowercase version of a string\n",
    "+ `haystack.index(needle)`: searches haystack for needle, prints the position of the first occurrence, indexed from 0. Note, throws an error if needle isn't found.\n",
    "+ `str_1.count(str_2)`: counts the number of occurrences of one string in another.\n",
    "+ `haystack.startswith(needle)`: does a the haystack string start with the needle string?\n",
    "+ `haystack.endswith(needle)`: does a the haystack string end with the needle string?\n",
    "+ `str_1.split(str_2)`: split the first string at every occurrence of the second string. Outputs a list (see below).\n",
    "+ `==`: are the two operand strings the same?\n",
    "+ `str.strip()`: remove any whitespace from the left or right of the string, including newlines. \n",
    "\n",
    "A better list of string operations is [available here](http://docs.python.org/2/library/string.html)."
   ]
  },
  {
   "cell_type": "code",
   "execution_count": null,
   "metadata": {
    "collapsed": false
   },
   "outputs": [],
   "source": [
    "word = \"Python is the word. And on and on and on and on...\" \n",
    "print len(word)"
   ]
  },
  {
   "cell_type": "code",
   "execution_count": null,
   "metadata": {
    "collapsed": false
   },
   "outputs": [],
   "source": [
    "print \"The length of the word above is \", len(word), \"characters\""
   ]
  },
  {
   "cell_type": "code",
   "execution_count": null,
   "metadata": {
    "collapsed": false
   },
   "outputs": [],
   "source": [
    "print word.lower()"
   ]
  },
  {
   "cell_type": "code",
   "execution_count": null,
   "metadata": {
    "collapsed": false
   },
   "outputs": [],
   "source": [
    "print word.upper()"
   ]
  },
  {
   "cell_type": "code",
   "execution_count": null,
   "metadata": {
    "collapsed": false
   },
   "outputs": [],
   "source": [
    "word = \"Python is the word. And on and on and on and on...\" \n",
    "ind = word.index(\"on\")\n",
    "print ind"
   ]
  },
  {
   "cell_type": "code",
   "execution_count": null,
   "metadata": {
    "collapsed": false
   },
   "outputs": [],
   "source": [
    "print \"The first time that we see the string on is at position\", word.index(\"on\")"
   ]
  },
  {
   "cell_type": "code",
   "execution_count": null,
   "metadata": {
    "collapsed": false
   },
   "outputs": [],
   "source": [
    "first_appearance = word.index(\"on\")\n",
    "second_appearance = word.index(\"on\",first_appearance+1)\n",
    "print \"The second time that we see the string on is at position\", second_appearance"
   ]
  },
  {
   "cell_type": "code",
   "execution_count": null,
   "metadata": {
    "collapsed": true
   },
   "outputs": [],
   "source": [
    "# Looking for the string \"on\" at the second half of the big string called \"word\"\n",
    "midpoint = len(word)/2 # finds the middle of the string word\n",
    "second_half_appearance = word.index(\"on\",midpoint)\n",
    "print \"First time that we see 'on' in the second half: \", second_half_appearance"
   ]
  },
  {
   "cell_type": "code",
   "execution_count": null,
   "metadata": {
    "collapsed": false
   },
   "outputs": [],
   "source": [
    "# We get an error when the string that we are looking for does not appear\n",
    "# anywhere: For example, we will look for the string \"Panos\"\n",
    "word = \"Python is the word. And on and on and on and on...\" \n",
    "word.index(\"Panos\")"
   ]
  },
  {
   "cell_type": "code",
   "execution_count": null,
   "metadata": {
    "collapsed": false
   },
   "outputs": [],
   "source": [
    "word = \"Python is the word. And on and on and on and on...\"\n",
    "lookfor = \"PYTHON\"\n",
    "count = word.count(lookfor)\n",
    "print  \"We see the string '\", lookfor  ,\"' that many times: \",  count"
   ]
  },
  {
   "cell_type": "code",
   "execution_count": null,
   "metadata": {
    "collapsed": false
   },
   "outputs": [],
   "source": [
    "str_1 = \"Hello\"\n",
    "str_2 = \"World\"\n",
    "print \"concatenation:\"\n",
    "print str_1 + \" \" + str_2\n",
    "print str_1 + \" everybody\""
   ]
  },
  {
   "cell_type": "code",
   "execution_count": null,
   "metadata": {
    "collapsed": false
   },
   "outputs": [],
   "source": [
    "print \"length:\"\n",
    "print len(str_1)\n",
    "print len(str_1 + \" \" + str_2)"
   ]
  },
  {
   "cell_type": "code",
   "execution_count": null,
   "metadata": {
    "collapsed": false
   },
   "outputs": [],
   "source": [
    "print \"string casing:\"\n",
    "print str_1.upper()\n",
    "print \"HELLO\".lower()"
   ]
  },
  {
   "cell_type": "code",
   "execution_count": null,
   "metadata": {
    "collapsed": false
   },
   "outputs": [],
   "source": [
    "print \"string indexing:\"\n",
    "print \"hello\".index(\"ll\")\n",
    "print \"hello\".upper().index(\"LL\")"
   ]
  },
  {
   "cell_type": "code",
   "execution_count": null,
   "metadata": {
    "collapsed": false
   },
   "outputs": [],
   "source": [
    "print \"string count:\"\n",
    "print str_1.count(\"l\")\n",
    "print str_1.count(\"ll\")"
   ]
  },
  {
   "cell_type": "code",
   "execution_count": null,
   "metadata": {
    "collapsed": false
   },
   "outputs": [],
   "source": [
    "print \"starts with & endswith:\"\n",
    "print \"hello\".startswith(\"he\")\n",
    "print \"hello\".endswith(\"world\")"
   ]
  },
  {
   "cell_type": "code",
   "execution_count": null,
   "metadata": {
    "collapsed": false
   },
   "outputs": [],
   "source": [
    "print \"split:\"\n",
    "print \"practical data science\".split(\" \")\n",
    "print \"hello\".split(\" \")\n",
    "print \"practical data science\".split(\"a\")"
   ]
  },
  {
   "cell_type": "code",
   "execution_count": null,
   "metadata": {
    "collapsed": false
   },
   "outputs": [],
   "source": [
    "str_1 = \"hello\"\n",
    "print \"equality:\"\n",
    "print str_1 == \"hello\"\n",
    "\n",
    "print str_1 == \"Hello\""
   ]
  },
  {
   "cell_type": "code",
   "execution_count": null,
   "metadata": {
    "collapsed": false
   },
   "outputs": [],
   "source": [
    "mystring1 = \"practical data science\"\n",
    "mylist1 = mystring1.split(\" \")\n",
    "print mystring1\n",
    "print mylist1"
   ]
  },
  {
   "cell_type": "markdown",
   "metadata": {},
   "source": [
    "### String Formatting:\n",
    "\n",
    "Often one wants to embed other information into strings, sometimes with special formatting constraints. In python, one may insert special formatting characters into strings that convey what type of data should be inserted and where, and how the \"stringified\" form should be formatted. For instance, one may wish to insert an integer into a string:"
   ]
  },
  {
   "cell_type": "code",
   "execution_count": null,
   "metadata": {
    "collapsed": false
   },
   "outputs": [],
   "source": [
    "message = 2\n",
    "print \"To be or not %d be\" % message"
   ]
  },
  {
   "cell_type": "markdown",
   "metadata": {},
   "source": [
    "Note the `%d` formatting (or conversion) specifier in the string. This is stating that you wish to insert an integer value (more on these conversion specifiers below). Then the value you wish to insert into the string is separated by a `%` character placed after the string. If you wish to insert more than one value into the string being formatted, they can be placed in a comma separated list, surrounded by parentheses after the `%`:"
   ]
  },
  {
   "cell_type": "code",
   "execution_count": null,
   "metadata": {
    "collapsed": false
   },
   "outputs": [],
   "source": [
    "print \"%d be or not %d be\" % (2, 2)"
   ]
  },
  {
   "cell_type": "markdown",
   "metadata": {},
   "source": [
    "In detail, a conversion specifier contains two or more characters which must occur in order with the following components:\n",
    "\n",
    "+ The `%` character which marks the start of the specifier\n",
    "+ An optional minimum field width. The value being read is padded to be at least this width\n",
    "+ An optional precision value, given as a \"`.`\" followed by the number of digits precision. \n",
    "+ Conversion specifier flag, which defines the type of the variable that we are printing (specified below). "
   ]
  },
  {
   "cell_type": "code",
   "execution_count": null,
   "metadata": {
    "collapsed": false
   },
   "outputs": [],
   "source": [
    "print \"Result: >%06.3f<\" % (100.0/23)"
   ]
  },
  {
   "cell_type": "code",
   "execution_count": null,
   "metadata": {
    "collapsed": false
   },
   "outputs": [],
   "source": [
    "print \"Result: >%6.3f<\" % (100.0/23)"
   ]
  },
  {
   "cell_type": "code",
   "execution_count": null,
   "metadata": {
    "collapsed": false
   },
   "outputs": [],
   "source": [
    "print \"Result: %.2f\" % (100.0/23)"
   ]
  },
  {
   "cell_type": "code",
   "execution_count": null,
   "metadata": {
    "collapsed": false
   },
   "outputs": [],
   "source": [
    "print \"Result: <%010.4f>\" % (10000000.0/7)\n",
    "print \"Result: <%010.4f>\" % (100.0/7)"
   ]
  },
  {
   "cell_type": "code",
   "execution_count": null,
   "metadata": {
    "collapsed": false
   },
   "outputs": [],
   "source": [
    "print \"Result: >%15.10f<\" % (100.0/23000000)"
   ]
  },
  {
   "cell_type": "markdown",
   "metadata": {},
   "source": [
    "Some common conversion flag characters are:\n",
    "\n",
    "+ `s`: String\n",
    "+ `d`: Signed integer decimal.\t\n",
    "+ `f`: Floating point decimal format.\n",
    "+ `e`: Floating point exponential format (lowercase).\n",
    "+ `E`: Floating point exponential format (uppercase)."
   ]
  },
  {
   "cell_type": "code",
   "execution_count": null,
   "metadata": {
    "collapsed": false
   },
   "outputs": [],
   "source": [
    "print \"%d %s or not %04.3f %s\" % (2, \"be\", 10.0/3, 'b')"
   ]
  },
  {
   "cell_type": "markdown",
   "metadata": {},
   "source": [
    "For a more detailed treatment on string formatting options, [see here](http://docs.python.org/release/2.5.2/lib/typesseq-strings.html)."
   ]
  }
 ],
 "metadata": {
  "kernelspec": {
   "display_name": "Python 2",
   "language": "python",
   "name": "python2"
  },
  "language_info": {
   "codemirror_mode": {
    "name": "ipython",
    "version": 2
   },
   "file_extension": ".py",
   "mimetype": "text/x-python",
   "name": "python",
   "nbconvert_exporter": "python",
   "pygments_lexer": "ipython2",
   "version": "2.7.6"
  }
 },
 "nbformat": 4,
 "nbformat_minor": 0
}
