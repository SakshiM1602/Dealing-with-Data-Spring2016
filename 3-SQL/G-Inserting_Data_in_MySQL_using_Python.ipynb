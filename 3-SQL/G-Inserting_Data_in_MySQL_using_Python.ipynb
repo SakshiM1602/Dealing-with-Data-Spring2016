{
 "cells": [
  {
   "cell_type": "markdown",
   "metadata": {},
   "source": [
    "## Inserting data in MySQL using Python\n",
    "\n",
    "First let's start with a basic piece of code that fetches the data that we want to insert in the database. For our example, we will get the data about the Citibike stations, using the correspoding API call provided by the Citibike website:"
   ]
  },
  {
   "cell_type": "code",
   "execution_count": null,
   "metadata": {
    "collapsed": false
   },
   "outputs": [],
   "source": [
    "import requests\n",
    "import json"
   ]
  },
  {
   "cell_type": "code",
   "execution_count": null,
   "metadata": {
    "collapsed": false
   },
   "outputs": [],
   "source": [
    "# Let's get the data from the Citibike API\n",
    "url = 'http://www.citibikenyc.com/stations/json'\n",
    "resp = requests.get(url)"
   ]
  },
  {
   "cell_type": "code",
   "execution_count": null,
   "metadata": {
    "collapsed": true
   },
   "outputs": [],
   "source": [
    "# We transform the returned JSON answer from the API into a Python dictionary object\n",
    "results = json.loads(resp.text)"
   ]
  },
  {
   "cell_type": "code",
   "execution_count": null,
   "metadata": {
    "collapsed": true
   },
   "outputs": [],
   "source": [
    "# We only need a subset of the data in the JSON returned by the Citibike API, so we keep only we need\n",
    "data = results[\"stationBeanList\"]"
   ]
  },
  {
   "cell_type": "code",
   "execution_count": null,
   "metadata": {
    "collapsed": false
   },
   "outputs": [],
   "source": [
    "# Let's see which Citibike stations are full\n",
    "\n",
    "# Let's write a function, that takes as input a dictionary\n",
    "# corresponding to a station, checks the \"availableDocks\"\n",
    "# entry, and returns True if and only if availableDocks == 0\n",
    "def isStationFull(station):\n",
    "    if station.get(\"availableDocks\") == 0:\n",
    "        if station.get(\"statusValue\") == \"Not In Service\":\n",
    "            # this is not really functioning\n",
    "            return False\n",
    "        else: \n",
    "            return True\n",
    "    else:\n",
    "        return False\n",
    "    \n",
    "def isStationEmpty(station):\n",
    "    available = station.get(\"availableDocks\")\n",
    "    total = station.get(\"totalDocks\")\n",
    "    status = station.get(\"statusValue\")\n",
    "    if (available == total and status != \"Not In Service\"):\n",
    "        return True\n",
    "    else:\n",
    "        return False\n",
    "\n",
    "print \"Stations that are full\"\n",
    "for station in data:\n",
    "    if isStationFull(station):\n",
    "        print station[\"id\"], station[\"stationName\"]\n",
    "        \n",
    "print \"\\n\\nStations that are empty\"\n",
    "for station in data:\n",
    "    if isStationEmpty(station):\n",
    "        print station[\"id\"], station[\"stationName\"]"
   ]
  },
  {
   "cell_type": "code",
   "execution_count": null,
   "metadata": {
    "collapsed": false
   },
   "outputs": [],
   "source": [
    "# The code below is just to be able to look at the results in an easy-to-read DataFrame format.\n",
    "# Our subsequent code that interacts with MySQL will operate using the dictionary object named \"data\".\n",
    "import pandas\n",
    "\n",
    "df = pandas.DataFrame(data)\n",
    "df"
   ]
  },
  {
   "cell_type": "markdown",
   "metadata": {},
   "source": [
    "Now we will connect to our MySQL server. We will use the MySQLdb library of Python.\n",
    "\n",
    "If you do not have the library, you need to install it by typing in the shell:\n",
    "\n",
    "`sudo apt-get install python-mysqldb`"
   ]
  },
  {
   "cell_type": "code",
   "execution_count": null,
   "metadata": {
    "collapsed": false
   },
   "outputs": [],
   "source": [
    "import MySQLdb as mdb\n",
    "import sys\n",
    "\n",
    "con = mdb.connect(host = 'localhost', \n",
    "                  user = 'root', \n",
    "                  passwd = 'dwdstudent2015', \n",
    "                  charset='utf8', use_unicode=True);"
   ]
  },
  {
   "cell_type": "markdown",
   "metadata": {},
   "source": [
    "Once we have connected successfully, we need to create our database:"
   ]
  },
  {
   "cell_type": "code",
   "execution_count": null,
   "metadata": {
    "collapsed": false
   },
   "outputs": [],
   "source": [
    "# Query to create a database\n",
    "db_name = 'citibike'\n",
    "create_db_query = \"CREATE DATABASE IF NOT EXISTS {0} DEFAULT CHARACTER SET 'utf8'\".format(db_name)\n",
    "\n",
    "# Create a database\n",
    "cursor = con.cursor()\n",
    "cursor.execute(create_db_query)\n",
    "cursor.close()"
   ]
  },
  {
   "cell_type": "markdown",
   "metadata": {},
   "source": [
    "Then we create the table where we will store our data. For our example, we will just import three fields in the database: station_id, station_name, and number_of_docks"
   ]
  },
  {
   "cell_type": "code",
   "execution_count": null,
   "metadata": {
    "collapsed": false
   },
   "outputs": [],
   "source": [
    "cursor = con.cursor()\n",
    "db_name = 'citibike'\n",
    "table_name = 'Docks'\n",
    "# Create a table\n",
    "# The {0} and {1} are placeholders for the parameters in the format(....) statement\n",
    "create_table_query = '''CREATE TABLE IF NOT EXISTS {0}.{1} \n",
    "                                (station_id int, \n",
    "                                station_name varchar(250), \n",
    "                                number_of_docks int,\n",
    "                                available_docks int,\n",
    "                                PRIMARY KEY(station_id)\n",
    "                                )'''.format(db_name, table_name)\n",
    "cursor.execute(create_table_query)\n",
    "cursor.close()"
   ]
  },
  {
   "cell_type": "markdown",
   "metadata": {},
   "source": [
    "Finally, we import the data into our table, using the INSERT command. "
   ]
  },
  {
   "cell_type": "code",
   "execution_count": null,
   "metadata": {
    "collapsed": false
   },
   "outputs": [],
   "source": [
    "query_template = '''INSERT INTO \n",
    "    citibike.Docks(station_id, station_name, number_of_docks, available_docks) \n",
    "    VALUES (%s, %s, %s, %s)'''\n",
    "\n",
    "cursor = con.cursor()\n",
    "\n",
    "# THIS IS PROHIBITED\n",
    "# query = \"INSERT INTO citibike.Docks(station_id, station_name, number_of_docks) VALUES (\"+entry[\"id\"]+\", \"+entry[\"stationName\"]+\", \"+entry[\"totalDocks\"]+\")\"\n",
    "\n",
    "for entry in data:\n",
    "    dockid = entry[\"id\"]\n",
    "    addr = entry[\"stationName\"]\n",
    "    docks = entry[\"totalDocks\"]\n",
    "    available = entry[\"availableDocks\"]\n",
    "    print \"Inserting station\", dockid, \"at\", addr\n",
    "    query_parameters = (dockid, addr, docks, available)\n",
    "    cursor.execute(query_template, query_parameters)\n",
    "    con.commit()\n",
    "\n",
    "cursor.close()"
   ]
  },
  {
   "cell_type": "code",
   "execution_count": null,
   "metadata": {
    "collapsed": false
   },
   "outputs": [],
   "source": [
    "cur = con.cursor(mdb.cursors.DictCursor)\n",
    "cur.execute(\"SELECT * FROM citibike.Docks\")\n",
    "rows = cur.fetchall()\n",
    "\n",
    "for row in rows:\n",
    "    print \"Station ID:\", row[\"station_id\"]\n",
    "    print \"Station Name:\", row[\"station_name\"]\n",
    "    print \"Number of Docks:\", row[\"number_of_docks\"]\n",
    "    print \"Available Docks:\", row[\"available_docks\"]\n",
    "    print \"=============================================\""
   ]
  },
  {
   "cell_type": "markdown",
   "metadata": {},
   "source": [
    "We can, of course, transform the results back into a DataFrame (see below) or we can use the data directly from the rows object (which is a tuple, containing one dictionary object for each line of the results)."
   ]
  },
  {
   "cell_type": "code",
   "execution_count": null,
   "metadata": {
    "collapsed": false
   },
   "outputs": [],
   "source": [
    "rows"
   ]
  },
  {
   "cell_type": "code",
   "execution_count": null,
   "metadata": {
    "collapsed": false
   },
   "outputs": [],
   "source": [
    "df_from_sql = pd.DataFrame(list(rows))\n",
    "df_from_sql"
   ]
  },
  {
   "cell_type": "markdown",
   "metadata": {},
   "source": [
    "Finally, let's close our database connection."
   ]
  },
  {
   "cell_type": "code",
   "execution_count": null,
   "metadata": {
    "collapsed": false
   },
   "outputs": [],
   "source": [
    "con.close()"
   ]
  },
  {
   "cell_type": "code",
   "execution_count": null,
   "metadata": {
    "collapsed": false
   },
   "outputs": [],
   "source": []
  }
 ],
 "metadata": {
  "kernelspec": {
   "display_name": "Python 2",
   "language": "python",
   "name": "python2"
  },
  "language_info": {
   "codemirror_mode": {
    "name": "ipython",
    "version": 2
   },
   "file_extension": ".py",
   "mimetype": "text/x-python",
   "name": "python",
   "nbconvert_exporter": "python",
   "pygments_lexer": "ipython2",
   "version": "2.7.6"
  }
 },
 "nbformat": 4,
 "nbformat_minor": 0
}
