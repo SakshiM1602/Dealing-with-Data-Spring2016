{
 "cells": [
  {
   "cell_type": "markdown",
   "metadata": {
    "slideshow": {
     "slide_type": "-"
    }
   },
   "source": [
    "## Facebook OAuth 2.0 Flow with IPython Notebook\n",
    "\n",
    "Facebook implements OAuth 2.0 as its standard authentication mechanism, and this example demonstrates how get an access token for making API requests once you've created an app and gotten a \"client id\" value that can be used to initiate an OAuth flow. Note that you will need an ordinary Facebook account in order to login, create an app, and get these credentials. \n",
    "\n",
    "You can create an app through the \"Developer\" section of your account settings as shown below or by navigating directly to https://developers.facebook.com/apps/. You will need the APP_ID from your app for the code below to work, and you will need to supply your own \"_Valid OAuth redirect URIs_\" (set from the \"Advanced\" Tab) to your app settings, to be the one that corresponds to your machine.\n",
    "\n",
    "\n",
    "<img src=\"https://dl.dropboxusercontent.com/u/16006464/DwD_Winter2015/fbapp.PNG\">\n",
    "\n",
    "<img src=\"https://dl.dropboxusercontent.com/u/16006464/DwD_Winter2015/fbapp_advanced.PNG\">\n",
    "\n",
    "**You must ensure that your browser is not blocking popups in order for this script to work.**\n"
   ]
  },
  {
   "cell_type": "code",
   "execution_count": null,
   "metadata": {
    "collapsed": false,
    "slideshow": {
     "slide_type": "-"
    }
   },
   "outputs": [],
   "source": [
    "import requests\n",
    "from flask import Flask, request\n",
    "from threading import Timer\n",
    "from IPython.display import display\n",
    "from IPython.display import Javascript as JS\n",
    "\n",
    "# XXX: Get this value from your Facebook application's settings for the OAuth flow\n",
    "# at https://developers.facebook.com/apps\n",
    "\n",
    "APP_ID = '1405218313107224' \n",
    "\n",
    "# This value is where Facebook will redirect. We'll configure an embedded\n",
    "# web server to be serving requests here\n",
    "\n",
    "REDIRECT_URI = 'http://ipython.ipeirotis.com:5000/oauth_helper'\n",
    "\n",
    "# You could customize which extended permissions are being requested for your app\n",
    "# by adding additional items to the list below. See\n",
    "# https://developers.facebook.com/docs/reference/login/extended-permissions/\n",
    "\n",
    "EXTENDED_PERMS = ['public_profile', 'user_friends']\n",
    "\n",
    "# A temporary file to store a code from the web server\n",
    "\n",
    "OAUTH_FILE = '/home/ubuntu/data/fb_access_token.txt'\n",
    "\n",
    "# Configure an emedded web server that accepts one request, parses\n",
    "# the fragment identifier out of the browser window redirects to another\n",
    "# handler with the parsed out value in the query string where it can be captured\n",
    "# and stored to disk. (A webserver cannot capture information in the fragment \n",
    "# identifier or that work would simply be done in here.)\n",
    "\n",
    "webserver = Flask(\"FacebookOAuth\")\n",
    "@webserver.route(\"/oauth_helper\")\n",
    "def oauth_helper():\n",
    "    return '''<script type=\"text/javascript\">\n",
    "    var at = window.location.hash.substring(\"access_token=\".length+1).split(\"&\")[0]; \n",
    "    setTimeout(function() { window.location = \"/access_token_capture?access_token=\" + at }, 1000 /*ms*/);\n",
    "    </script>'''\n",
    "\n",
    "# Parses out a query string parameter and stores it to disk. This is required because\n",
    "# the address space that Flask uses is not shared with IPython Notebook, so there is really\n",
    "# no other way to share the information than to store it to a file and access it afterward\n",
    "@webserver.route(\"/access_token_capture\")\n",
    "def access_token_capture():\n",
    "    access_token = request.args.get('access_token')\n",
    "    f = open(OAUTH_FILE, 'w') # Store the code as a file\n",
    "    f.write(access_token)\n",
    "    f.close()\n",
    "    \n",
    "    # It is safe (and convenient) to shut down the web server after this request\n",
    "    shutdown_after_request = request.environ.get('werkzeug.server.shutdown')\n",
    "    shutdown_after_request()\n",
    "    return access_token\n",
    "\n",
    "\n",
    "# Send an OAuth request to Facebook, handle the redirect, and display the access\n",
    "# token that's included in the redirect for the user to copy and paste\n",
    "    \n",
    "args = dict(client_id=APP_ID, redirect_uri=REDIRECT_URI,\n",
    "            scope=','.join(EXTENDED_PERMS), type='user_agent', display='popup'\n",
    "            )\n",
    "\n",
    "oauth_url = 'https://facebook.com/dialog/oauth?' + urllib.urlencode(args)\n",
    "\n",
    "Timer(1, lambda: display(JS(\"window.open('%s')\" % oauth_url))).start()\n",
    "\n",
    "\n",
    "webserver.run(host='0.0.0.0')\n",
    "\n",
    "access_token = open(OAUTH_FILE).read()\n",
    "\n",
    "print access_token"
   ]
  },
  {
   "cell_type": "markdown",
   "metadata": {},
   "source": [
    "After this step, you can use the access token as we described in our notes for the Jawbone API (and by learning, of course, the details of the [Facebook API](https://developers.facebook.com/docs/graph-api/reference/))\n"
   ]
  },
  {
   "cell_type": "code",
   "execution_count": null,
   "metadata": {
    "collapsed": false,
    "slideshow": {
     "slide_type": "-"
    }
   },
   "outputs": [],
   "source": [
    "import json\n",
    "\n",
    "# Testing one of the API endpoints\n",
    "endpoint = \"https://graph.facebook.com/v2.2/me\"\n",
    "\n",
    "params = {}\n",
    "headers = {'Authorization': 'Bearer ' + access_token}\n",
    "resp = requests.get(endpoint, params=params, headers=headers)\n",
    "userdata = json.loads(resp.text)\n",
    "userdata"
   ]
  },
  {
   "cell_type": "code",
   "execution_count": null,
   "metadata": {
    "collapsed": false
   },
   "outputs": [],
   "source": [
    "# Testing one of the API endpoints\n",
    "endpoint = \"https://graph.facebook.com/v2.2/me/friends\"\n",
    "\n",
    "params = {}\n",
    "headers = {'Authorization': 'Bearer ' + access_token}\n",
    "resp = requests.get(endpoint, params=params, headers=headers)\n",
    "data = json.loads(resp.text)\n",
    "data"
   ]
  },
  {
   "cell_type": "code",
   "execution_count": null,
   "metadata": {
    "collapsed": false
   },
   "outputs": [],
   "source": []
  }
 ],
 "metadata": {
  "kernelspec": {
   "display_name": "Python 2",
   "language": "python",
   "name": "python2"
  },
  "language_info": {
   "codemirror_mode": {
    "name": "ipython",
    "version": 2
   },
   "file_extension": ".py",
   "mimetype": "text/x-python",
   "name": "python",
   "nbconvert_exporter": "python",
   "pygments_lexer": "ipython2",
   "version": "2.7.6"
  }
 },
 "nbformat": 4,
 "nbformat_minor": 0
}
