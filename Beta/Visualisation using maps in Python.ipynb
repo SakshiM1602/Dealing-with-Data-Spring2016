{
 "cells": [
  {
   "cell_type": "markdown",
   "metadata": {},
   "source": [
    "---\n",
    "# Visualization using maps in Python\n",
    "\n",
    "---"
   ]
  },
  {
   "cell_type": "markdown",
   "metadata": {},
   "source": [
    "In the Python world, there are multiple tools for data visualizing:\n",
    "* [**matplotlib**](http://matplotlib.org) produces publication quality figures in a variety of hardcopy formats and interactive environments across platforms; you can generate plots, histograms, power spectra, bar charts, errorcharts, scatterplots, etc., with just a few lines of code;\n",
    "* [**Seaborn**](http://stanford.edu/~mwaskom/software/seaborn/index.html) is a library for making attractive and informative statistical graphics in Python;\n",
    "* [**Bokeh**](http://bokeh.pydata.org/en/latest/) targets modern web browsers for presentation; its goal is to provide elegant, concise construction of novel graphics in the style of D3.js, but also deliver this capability with high-performance interactivity over very large or streaming datasets;\n",
    "* [**plotly**](https://plot.ly) generates the most interactive graphs; allows saving them offline and create very rich web-based visualizations;\n",
    "* [**folium**](http://folium.readthedocs.org/en/latest) builds on the data wrangling strengths of the Python ecosystem and the mapping strengths of the [Leaflet.js](http://leafletjs.com) JavaScript library;\n",
    "* [**ggplot**](http://ggplot.yhathq.com) is built for making profressional looking, plots quickly with minimal code;\n",
    "* [**pygal**](http://www.pygal.org/en/latest) features various graph types like bar charts, line charts, XY charts, pie charts, radar charts, dot charts, pyramid charts, funnel charts, gauge charts; is used for creating svg charts\n",
    "\n",
    "and others (particularly, pandas also possesses with its own visualization funtionality). Many of above libraries contains various and powerful tools for geovisualization (using maps or globes). We will consider many examples of such visualization kind.\n",
    "\n",
    "Among all mentioned above libraries only matplotlib is included to [Anaconda](https://www.continuum.io/). The instruction of the library instalation can be found on sites, links to which we have provided above. \n",
    "\n",
    "So, before going to the next paragraph, you need install _matplotlib_ (see installation guide [here](http://matplotlib.org/users/installing.html)) together with _basemap_ toolkit for matplotlib (is a library for plotting 2D data on maps in Python) (installation guide can be found [here](http://matplotlib.org/basemap/users/installing.html) and the recommendations for installing of basemap on Windows OS [here](http://stackoverflow.com/questions/18109859/how-to-install-matplotlib-basemap-module-on-windows-7-with-winpython-or-any-pyt)) and _folium_ (also pip using: `pip install folium`)."
   ]
  },
  {
   "cell_type": "markdown",
   "metadata": {},
   "source": [
    "## Datasets reading and processing data"
   ]
  },
  {
   "cell_type": "markdown",
   "metadata": {
    "collapsed": true
   },
   "source": [
    "We’ll be using route, airport, and airline data from [openflights](http://openflights.org/data.html). Each row in the route data corresponds to an airline route between two airports. Each row in the airport data corresponds to an airport in the world, and has information about it. Each row in the airline data represents a single airline. The description and signification of each column you may see [here](http://openflights.org/data.html)."
   ]
  },
  {
   "cell_type": "code",
   "execution_count": 1,
   "metadata": {
    "collapsed": false
   },
   "outputs": [
    {
     "name": "stdout",
     "output_type": "stream",
     "text": [
      "Dataset contains 8107 rows.\n"
     ]
    },
    {
     "data": {
      "text/html": [
       "<div>\n",
       "<table border=\"1\" class=\"dataframe\">\n",
       "  <thead>\n",
       "    <tr style=\"text-align: right;\">\n",
       "      <th></th>\n",
       "      <th>airport_id</th>\n",
       "      <th>name</th>\n",
       "      <th>city</th>\n",
       "      <th>country</th>\n",
       "      <th>IATA_FAA</th>\n",
       "      <th>ICAO</th>\n",
       "      <th>lat</th>\n",
       "      <th>lon</th>\n",
       "      <th>altitude</th>\n",
       "      <th>timezone</th>\n",
       "      <th>dst</th>\n",
       "      <th>tz_database</th>\n",
       "    </tr>\n",
       "  </thead>\n",
       "  <tbody>\n",
       "    <tr>\n",
       "      <th>0</th>\n",
       "      <td>1</td>\n",
       "      <td>Goroka</td>\n",
       "      <td>Goroka</td>\n",
       "      <td>Papua New Guinea</td>\n",
       "      <td>GKA</td>\n",
       "      <td>AYGA</td>\n",
       "      <td>-6.081689</td>\n",
       "      <td>145.391881</td>\n",
       "      <td>5282</td>\n",
       "      <td>10</td>\n",
       "      <td>U</td>\n",
       "      <td>Pacific/Port_Moresby</td>\n",
       "    </tr>\n",
       "    <tr>\n",
       "      <th>1</th>\n",
       "      <td>2</td>\n",
       "      <td>Madang</td>\n",
       "      <td>Madang</td>\n",
       "      <td>Papua New Guinea</td>\n",
       "      <td>MAG</td>\n",
       "      <td>AYMD</td>\n",
       "      <td>-5.207083</td>\n",
       "      <td>145.788700</td>\n",
       "      <td>20</td>\n",
       "      <td>10</td>\n",
       "      <td>U</td>\n",
       "      <td>Pacific/Port_Moresby</td>\n",
       "    </tr>\n",
       "    <tr>\n",
       "      <th>2</th>\n",
       "      <td>3</td>\n",
       "      <td>Mount Hagen</td>\n",
       "      <td>Mount Hagen</td>\n",
       "      <td>Papua New Guinea</td>\n",
       "      <td>HGU</td>\n",
       "      <td>AYMH</td>\n",
       "      <td>-5.826789</td>\n",
       "      <td>144.295861</td>\n",
       "      <td>5388</td>\n",
       "      <td>10</td>\n",
       "      <td>U</td>\n",
       "      <td>Pacific/Port_Moresby</td>\n",
       "    </tr>\n",
       "    <tr>\n",
       "      <th>3</th>\n",
       "      <td>4</td>\n",
       "      <td>Nadzab</td>\n",
       "      <td>Nadzab</td>\n",
       "      <td>Papua New Guinea</td>\n",
       "      <td>LAE</td>\n",
       "      <td>AYNZ</td>\n",
       "      <td>-6.569828</td>\n",
       "      <td>146.726242</td>\n",
       "      <td>239</td>\n",
       "      <td>10</td>\n",
       "      <td>U</td>\n",
       "      <td>Pacific/Port_Moresby</td>\n",
       "    </tr>\n",
       "    <tr>\n",
       "      <th>4</th>\n",
       "      <td>5</td>\n",
       "      <td>Port Moresby Jacksons Intl</td>\n",
       "      <td>Port Moresby</td>\n",
       "      <td>Papua New Guinea</td>\n",
       "      <td>POM</td>\n",
       "      <td>AYPY</td>\n",
       "      <td>-9.443383</td>\n",
       "      <td>147.220050</td>\n",
       "      <td>146</td>\n",
       "      <td>10</td>\n",
       "      <td>U</td>\n",
       "      <td>Pacific/Port_Moresby</td>\n",
       "    </tr>\n",
       "  </tbody>\n",
       "</table>\n",
       "</div>"
      ],
      "text/plain": [
       "   airport_id                        name          city           country  \\\n",
       "0           1                      Goroka        Goroka  Papua New Guinea   \n",
       "1           2                      Madang        Madang  Papua New Guinea   \n",
       "2           3                 Mount Hagen   Mount Hagen  Papua New Guinea   \n",
       "3           4                      Nadzab        Nadzab  Papua New Guinea   \n",
       "4           5  Port Moresby Jacksons Intl  Port Moresby  Papua New Guinea   \n",
       "\n",
       "  IATA_FAA  ICAO       lat         lon  altitude  timezone dst  \\\n",
       "0      GKA  AYGA -6.081689  145.391881      5282        10   U   \n",
       "1      MAG  AYMD -5.207083  145.788700        20        10   U   \n",
       "2      HGU  AYMH -5.826789  144.295861      5388        10   U   \n",
       "3      LAE  AYNZ -6.569828  146.726242       239        10   U   \n",
       "4      POM  AYPY -9.443383  147.220050       146        10   U   \n",
       "\n",
       "            tz_database  \n",
       "0  Pacific/Port_Moresby  \n",
       "1  Pacific/Port_Moresby  \n",
       "2  Pacific/Port_Moresby  \n",
       "3  Pacific/Port_Moresby  \n",
       "4  Pacific/Port_Moresby  "
      ]
     },
     "execution_count": 1,
     "metadata": {},
     "output_type": "execute_result"
    }
   ],
   "source": [
    "import os\n",
    "import pandas as pd\n",
    "\n",
    "# Define folder with CSV files\n",
    "data_dir = \"data\"\n",
    "\n",
    "# Create a DataFrame for airports data \n",
    "airports = pd.read_csv(os.path.join(data_dir, 'airports.csv'))\n",
    "print \"Dataset contains {} rows.\".format(len(airports.index))\n",
    "airports.head()"
   ]
  },
  {
   "cell_type": "code",
   "execution_count": 2,
   "metadata": {
    "collapsed": false
   },
   "outputs": [
    {
     "name": "stdout",
     "output_type": "stream",
     "text": [
      "Dataset contains 6048 rows.\n"
     ]
    },
    {
     "data": {
      "text/html": [
       "<div>\n",
       "<table border=\"1\" class=\"dataframe\">\n",
       "  <thead>\n",
       "    <tr style=\"text-align: right;\">\n",
       "      <th></th>\n",
       "      <th>airline_id</th>\n",
       "      <th>name</th>\n",
       "      <th>alias</th>\n",
       "      <th>IATA</th>\n",
       "      <th>ICAO</th>\n",
       "      <th>callsign</th>\n",
       "      <th>country</th>\n",
       "      <th>active</th>\n",
       "    </tr>\n",
       "  </thead>\n",
       "  <tbody>\n",
       "    <tr>\n",
       "      <th>0</th>\n",
       "      <td>1</td>\n",
       "      <td>Private flight</td>\n",
       "      <td>\\N</td>\n",
       "      <td>-</td>\n",
       "      <td>NaN</td>\n",
       "      <td>NaN</td>\n",
       "      <td>NaN</td>\n",
       "      <td>Y</td>\n",
       "    </tr>\n",
       "    <tr>\n",
       "      <th>1</th>\n",
       "      <td>2</td>\n",
       "      <td>135 Airways</td>\n",
       "      <td>\\N</td>\n",
       "      <td>NaN</td>\n",
       "      <td>GNL</td>\n",
       "      <td>GENERAL</td>\n",
       "      <td>United States</td>\n",
       "      <td>N</td>\n",
       "    </tr>\n",
       "    <tr>\n",
       "      <th>2</th>\n",
       "      <td>3</td>\n",
       "      <td>1Time Airline</td>\n",
       "      <td>\\N</td>\n",
       "      <td>1T</td>\n",
       "      <td>RNX</td>\n",
       "      <td>NEXTIME</td>\n",
       "      <td>South Africa</td>\n",
       "      <td>Y</td>\n",
       "    </tr>\n",
       "    <tr>\n",
       "      <th>3</th>\n",
       "      <td>4</td>\n",
       "      <td>2 Sqn No 1 Elementary Flying Training School</td>\n",
       "      <td>\\N</td>\n",
       "      <td>NaN</td>\n",
       "      <td>WYT</td>\n",
       "      <td>NaN</td>\n",
       "      <td>United Kingdom</td>\n",
       "      <td>N</td>\n",
       "    </tr>\n",
       "    <tr>\n",
       "      <th>4</th>\n",
       "      <td>5</td>\n",
       "      <td>213 Flight Unit</td>\n",
       "      <td>\\N</td>\n",
       "      <td>NaN</td>\n",
       "      <td>TFU</td>\n",
       "      <td>NaN</td>\n",
       "      <td>Russia</td>\n",
       "      <td>N</td>\n",
       "    </tr>\n",
       "  </tbody>\n",
       "</table>\n",
       "</div>"
      ],
      "text/plain": [
       "   airline_id                                          name alias IATA ICAO  \\\n",
       "0           1                                Private flight    \\N    -  NaN   \n",
       "1           2                                   135 Airways    \\N  NaN  GNL   \n",
       "2           3                                 1Time Airline    \\N   1T  RNX   \n",
       "3           4  2 Sqn No 1 Elementary Flying Training School    \\N  NaN  WYT   \n",
       "4           5                               213 Flight Unit    \\N  NaN  TFU   \n",
       "\n",
       "  callsign         country active  \n",
       "0      NaN             NaN      Y  \n",
       "1  GENERAL   United States      N  \n",
       "2  NEXTIME    South Africa      Y  \n",
       "3      NaN  United Kingdom      N  \n",
       "4      NaN          Russia      N  "
      ]
     },
     "execution_count": 2,
     "metadata": {},
     "output_type": "execute_result"
    }
   ],
   "source": [
    "# Create a DataFrame for airlines data\n",
    "airlines = pd.read_csv(os.path.join(data_dir, 'airlines.csv'))\n",
    "print \"Dataset contains {} rows.\".format(len(airlines.index))\n",
    "airlines.head()"
   ]
  },
  {
   "cell_type": "code",
   "execution_count": 3,
   "metadata": {
    "collapsed": false
   },
   "outputs": [
    {
     "name": "stdout",
     "output_type": "stream",
     "text": [
      "Dataset contains 66548 rows.\n"
     ]
    },
    {
     "data": {
      "text/html": [
       "<div>\n",
       "<table border=\"1\" class=\"dataframe\">\n",
       "  <thead>\n",
       "    <tr style=\"text-align: right;\">\n",
       "      <th></th>\n",
       "      <th>airline</th>\n",
       "      <th>airline_id</th>\n",
       "      <th>source_airport</th>\n",
       "      <th>source_airport_id</th>\n",
       "      <th>destination_airport</th>\n",
       "      <th>destination_airport_id</th>\n",
       "      <th>codeshare</th>\n",
       "      <th>stops</th>\n",
       "      <th>equipment</th>\n",
       "    </tr>\n",
       "  </thead>\n",
       "  <tbody>\n",
       "    <tr>\n",
       "      <th>0</th>\n",
       "      <td>2B</td>\n",
       "      <td>410</td>\n",
       "      <td>AER</td>\n",
       "      <td>2965</td>\n",
       "      <td>KZN</td>\n",
       "      <td>2990</td>\n",
       "      <td>NaN</td>\n",
       "      <td>0</td>\n",
       "      <td>CR2</td>\n",
       "    </tr>\n",
       "    <tr>\n",
       "      <th>1</th>\n",
       "      <td>2B</td>\n",
       "      <td>410</td>\n",
       "      <td>ASF</td>\n",
       "      <td>2966</td>\n",
       "      <td>KZN</td>\n",
       "      <td>2990</td>\n",
       "      <td>NaN</td>\n",
       "      <td>0</td>\n",
       "      <td>CR2</td>\n",
       "    </tr>\n",
       "    <tr>\n",
       "      <th>2</th>\n",
       "      <td>2B</td>\n",
       "      <td>410</td>\n",
       "      <td>ASF</td>\n",
       "      <td>2966</td>\n",
       "      <td>MRV</td>\n",
       "      <td>2962</td>\n",
       "      <td>NaN</td>\n",
       "      <td>0</td>\n",
       "      <td>CR2</td>\n",
       "    </tr>\n",
       "    <tr>\n",
       "      <th>3</th>\n",
       "      <td>2B</td>\n",
       "      <td>410</td>\n",
       "      <td>CEK</td>\n",
       "      <td>2968</td>\n",
       "      <td>KZN</td>\n",
       "      <td>2990</td>\n",
       "      <td>NaN</td>\n",
       "      <td>0</td>\n",
       "      <td>CR2</td>\n",
       "    </tr>\n",
       "    <tr>\n",
       "      <th>4</th>\n",
       "      <td>2B</td>\n",
       "      <td>410</td>\n",
       "      <td>CEK</td>\n",
       "      <td>2968</td>\n",
       "      <td>OVB</td>\n",
       "      <td>4078</td>\n",
       "      <td>NaN</td>\n",
       "      <td>0</td>\n",
       "      <td>CR2</td>\n",
       "    </tr>\n",
       "  </tbody>\n",
       "</table>\n",
       "</div>"
      ],
      "text/plain": [
       "  airline  airline_id source_airport  source_airport_id destination_airport  \\\n",
       "0      2B         410            AER               2965                 KZN   \n",
       "1      2B         410            ASF               2966                 KZN   \n",
       "2      2B         410            ASF               2966                 MRV   \n",
       "3      2B         410            CEK               2968                 KZN   \n",
       "4      2B         410            CEK               2968                 OVB   \n",
       "\n",
       "   destination_airport_id codeshare  stops equipment  \n",
       "0                    2990       NaN      0       CR2  \n",
       "1                    2990       NaN      0       CR2  \n",
       "2                    2962       NaN      0       CR2  \n",
       "3                    2990       NaN      0       CR2  \n",
       "4                    4078       NaN      0       CR2  "
      ]
     },
     "execution_count": 3,
     "metadata": {},
     "output_type": "execute_result"
    }
   ],
   "source": [
    "# And a separate DataFrame for routes\n",
    "routes = pd.read_csv(os.path.join(data_dir, 'routes.csv'))\n",
    "# Some rows contain undefined `airline_id`, `source_airport_id` and `destination_airport_id`,\n",
    "# which are equal to \"\\\\N\". Let's drop rows containing these value\n",
    "routes = routes[(routes['airline_id'] != \"\\\\N\") & \n",
    "                (routes['source_airport_id'] != \"\\\\N\") & \n",
    "                (routes['destination_airport_id'] != \"\\\\N\")\n",
    "               ]\n",
    "# and change its type from `str` to `int`\n",
    "for col in ['airline_id', 'source_airport_id', 'destination_airport_id']:\n",
    "    routes[col] = routes[col].astype(int)\n",
    "print \"Dataset contains {} rows.\".format(len(routes.index))\n",
    "routes.head()"
   ]
  },
  {
   "cell_type": "markdown",
   "metadata": {},
   "source": [
    "The chosen data is inherently a good fit for mapping – we have latitude and longitude pairs for airports, and for source and destination airports.\n",
    "\n",
    "The first map we can make is one that shows all the airports all over the world. We can do this with the basemap extension to matplotlib. This enables drawing world maps and adding points, and is very customizable."
   ]
  },
  {
   "cell_type": "code",
   "execution_count": 4,
   "metadata": {
    "collapsed": false,
    "scrolled": false
   },
   "outputs": [
    {
     "ename": "ImportError",
     "evalue": "No module named basemap",
     "output_type": "error",
     "traceback": [
      "\u001b[1;31m---------------------------------------------------------------------------\u001b[0m",
      "\u001b[1;31mImportError\u001b[0m                               Traceback (most recent call last)",
      "\u001b[1;32m<ipython-input-4-ab0fd3099b17>\u001b[0m in \u001b[0;36m<module>\u001b[1;34m()\u001b[0m\n\u001b[0;32m      1\u001b[0m \u001b[1;32mimport\u001b[0m \u001b[0mmatplotlib\u001b[0m\u001b[1;33m\u001b[0m\u001b[0m\n\u001b[0;32m      2\u001b[0m \u001b[1;32mimport\u001b[0m \u001b[0mmatplotlib\u001b[0m\u001b[1;33m.\u001b[0m\u001b[0mpyplot\u001b[0m \u001b[1;32mas\u001b[0m \u001b[0mplt\u001b[0m\u001b[1;33m\u001b[0m\u001b[0m\n\u001b[1;32m----> 3\u001b[1;33m \u001b[1;32mfrom\u001b[0m \u001b[0mmpl_toolkits\u001b[0m\u001b[1;33m.\u001b[0m\u001b[0mbasemap\u001b[0m \u001b[1;32mimport\u001b[0m \u001b[0mBasemap\u001b[0m\u001b[1;33m\u001b[0m\u001b[0m\n\u001b[0m\u001b[0;32m      4\u001b[0m \u001b[0mget_ipython\u001b[0m\u001b[1;33m(\u001b[0m\u001b[1;33m)\u001b[0m\u001b[1;33m.\u001b[0m\u001b[0mmagic\u001b[0m\u001b[1;33m(\u001b[0m\u001b[1;34mu'matplotlib inline'\u001b[0m\u001b[1;33m)\u001b[0m\u001b[1;33m\u001b[0m\u001b[0m\n\u001b[0;32m      5\u001b[0m \u001b[1;33m\u001b[0m\u001b[0m\n",
      "\u001b[1;31mImportError\u001b[0m: No module named basemap"
     ]
    }
   ],
   "source": [
    "import matplotlib\n",
    "import matplotlib.pyplot as plt\n",
    "from mpl_toolkits.basemap import Basemap\n",
    "%matplotlib inline\n",
    "\n",
    "# This defines the size of the image below\n",
    "plt.rcParams['figure.figsize'] = (18, 12)\n",
    "plt.style.use('seaborn-poster')\n",
    "\n",
    "# Create a map on which to draw. We're using a `Gall Stereographic Cylindrical` projection, and showing the whole world.\n",
    "# resolution: the resolution of he included coastlines, lakes, and so on. The crude resolution is chosen.\n",
    "# area_thresh: the threshold under what no coast line or lake will be drawn.\n",
    "# lat_0, lon_0: latitude and longitude of map center.\n",
    "themap = Basemap(projection='gall', resolution = 'c', area_thresh = 10000.0, lat_0=0, lon_0=0)\n",
    " \n",
    "# Draw coastlines, borders of countries and the edges of the map.\n",
    "themap.drawcoastlines()\n",
    "themap.drawcountries()\n",
    "themap.fillcontinents(color='coral')\n",
    "themap.drawmapboundary()\n",
    "\n",
    "# Use matplotlib to draw the points onto the map.\n",
    "x, y = themap(list(airports[\"lon\"]), list(airports[\"lat\"]))\n",
    "themap.plot(x, y, 'o', color=\"blue\", markersize=4)\n",
    "\n",
    "plt.show()"
   ]
  },
  {
   "cell_type": "markdown",
   "metadata": {},
   "source": [
    "The map may be more informative if we will manage markers color, shape and size."
   ]
  },
  {
   "cell_type": "code",
   "execution_count": null,
   "metadata": {
    "collapsed": false
   },
   "outputs": [],
   "source": [
    "# Define marker color depending on the altitude of airport\n",
    "def get_marker_color(altitude):\n",
    "    if altitude <= 200:\n",
    "        return 'green'\n",
    "    elif altitude <= 500:\n",
    "        return 'lightgreen'\n",
    "    elif altitude <= 1000:\n",
    "        return 'yellow'\n",
    "    elif altitude <= 2000:\n",
    "        return 'orange'\n",
    "    else:\n",
    "        return 'red'\n",
    "\n",
    "# Define marker size and shape based on the amount of outgoing and incoming flights of the airport \n",
    "def get_marker_size(airport_id):\n",
    "    count = routes[(routes['source_airport_id'] == airport_id) | (routes['destination_airport_id'] == airport_id)].shape[0]\n",
    "    if count < 10:\n",
    "        shape = 's'   # square\n",
    "    elif count < 50:\n",
    "        count = 5 + count // 10\n",
    "        shape = 'p'   # pentagon\n",
    "    elif count < 100:\n",
    "        count = 10 + count // 10\n",
    "        shape = 'D'   # diamond\n",
    "    else:\n",
    "        count = count // 10\n",
    "        shape = 'o'   # circle\n",
    "    return count, shape\n",
    "\n",
    "# Zoom map on Europe\n",
    "themap = Basemap(projection='gall',\n",
    "                 llcrnrlon=-12,              # lower-left corner longitude\n",
    "                 llcrnrlat=30,               # lower-left corner latitude\n",
    "                 urcrnrlon=45,               # upper-right corner longitude\n",
    "                 urcrnrlat=73,               # upper-right corner latitude\n",
    "                 resolution='l',             # low resolution\n",
    "                 area_thresh = 100000.0,\n",
    "                )\n",
    "\n",
    "themap.drawcoastlines()\n",
    "themap.drawcountries(linewidth=2.0)\n",
    "themap.fillcontinents(color='khaki')\n",
    "themap.drawmapboundary(fill_color='aqua')\n",
    "# Draw rivers\n",
    "themap.drawrivers(color='blue')\n",
    "\n",
    "# Draw markers with various size and color for respective airport \n",
    "for i in airports.index.values:\n",
    "    x, y = themap(airports.loc[i, \"lon\"], airports.loc[i, \"lat\"])\n",
    "    size, shape = get_marker_size(airports.loc[i, \"airport_id\"])\n",
    "    themap.plot(x, y, \n",
    "                marker=shape, \n",
    "                color=get_marker_color(airports.loc[i, \"altitude\"]), \n",
    "                markersize=size\n",
    "               )\n",
    "\n",
    "plt.show()"
   ]
  },
  {
   "cell_type": "markdown",
   "metadata": {
    "collapsed": true
   },
   "source": [
    "Adding of text label on the map makes it just more informative. Let's draw top 10 airports by amount of serving airlines "
   ]
  },
  {
   "cell_type": "code",
   "execution_count": null,
   "metadata": {
    "collapsed": false
   },
   "outputs": [],
   "source": [
    "import numpy as np\n",
    "import random\n",
    "\n",
    "# Find ID of top `n` airports with the largest amount of airlines\n",
    "def get_top_n_airports(n=10):\n",
    "    gl = routes.groupby(\"source_airport_id\")[\"airline_id\"].apply(set).apply(len)   # `apply(set)` drops duplicates\n",
    "    gl.sort(ascending=False)\n",
    "    return gl[:n]\n",
    "\n",
    "\n",
    "themap = Basemap(projection='robin', resolution = 'i', area_thresh = 1000.0, lat_0=0, lon_0=90)\n",
    "\n",
    "# Display blue marble image (from http://visibleearth.nasa.gov) as map background\n",
    "themap.bluemarble(scale=0.5)\n",
    "\n",
    "# draw lat/lon grid lines every 30 degrees.\n",
    "themap.drawmeridians(np.arange(0,360,30), linewidth=1, dashes=[4, 2], labels=[1,0,0,1], color='g')\n",
    "themap.drawparallels(np.arange(-90,90,30), linewidth=1, dashes=[4, 2], labels=[1,0,0,1], color='g')\n",
    "\n",
    "top = get_top_n_airports()\n",
    "for _id in top.index.values:\n",
    "    res = airports[airports[\"airport_id\"] == _id][[\"lon\", \"lat\", \"name\"]]\n",
    "    x, y = themap(res['lon'].values[0], res['lat'].values[0])\n",
    "    themap.plot(x, y, 'yo', markersize=top[_id] // 5)\n",
    "    plt.text((1 + 0.02) * x, \n",
    "             (1 + random.choice(range(-3,3)) * 0.01) * y, \n",
    "             res['name'].values[0], color='r', fontsize=16\n",
    "            )\n",
    "\n",
    "plt.show()"
   ]
  },
  {
   "cell_type": "markdown",
   "metadata": {
    "collapsed": true
   },
   "source": [
    "Another perfect tool for vizualisation data processed in Python is `folium`. It builds on the data wrangling strengths of the Python ecosystem and the mapping strengths of the Leaflet.js library. It manipulate your data in Python, then visualize it in on a Leaflet map. It enables both the binding of data to a map for choropleth visualizations as well as passing Vincent/Vega visualizations as markers on the map."
   ]
  },
  {
   "cell_type": "code",
   "execution_count": null,
   "metadata": {
    "collapsed": false
   },
   "outputs": [],
   "source": [
    "import folium\n",
    "from IPython.display import display\n",
    "\n",
    "# Create a map\n",
    "fmap = folium.Map(location=[0, 0], zoom_start=2)\n",
    "\n",
    "# Add markers\n",
    "for name, row in airports.iterrows():\n",
    "    fmap.circle_marker(location=[row[\"lat\"], row[\"lon\"]], \n",
    "                       popup=row[\"name\"],                 # Popup will be shown at click on the marker\n",
    "                       line_color='#3186cc', fill_color='#3186cc', radius=10000)\n",
    "\n",
    "display(fmap)\n",
    "# Try zoom and move the map"
   ]
  },
  {
   "cell_type": "markdown",
   "metadata": {
    "collapsed": true
   },
   "source": [
    "`folium` provides very detailed map and we may use it to visualize geodata localized in a small scale. Let's get the data from the [Citibike API](http://www.citibikenyc.com/stations/json):"
   ]
  },
  {
   "cell_type": "code",
   "execution_count": null,
   "metadata": {
    "collapsed": false
   },
   "outputs": [],
   "source": [
    "import requests\n",
    "import json\n",
    "\n",
    "url = 'http://www.citibikenyc.com/stations/json'\n",
    "resp = requests.get(url)\n",
    "\n",
    "# Transform the returned JSON answer from the API into a Python dictionary object\n",
    "results = json.loads(resp.text)\n",
    "\n",
    "# We need only a subset of the data in the JSON returned by the Citibike API, so we keep only we need\n",
    "data = results[\"stationBeanList\"]\n",
    "\n",
    "citibike = pd.DataFrame(data)\n",
    "print \"Citibike dataset contains {} rows\".format(citibike.size)\n",
    "citibike.head()"
   ]
  },
  {
   "cell_type": "code",
   "execution_count": null,
   "metadata": {
    "collapsed": false
   },
   "outputs": [],
   "source": [
    "fmap = folium.Map(location=[40.73, -74], zoom_start=12)\n",
    "\n",
    "for name, row in citibike.iterrows():\n",
    "    fmap.circle_marker(location=[row[\"latitude\"], row[\"longitude\"]], \n",
    "                       # html formatted popup text\n",
    "                       popup=\"<strong>Address: </strong>\" + row[\"stAddress1\"] + \"<br></br>\" + \n",
    "                             \"<strong>Available bikes</strong>: \" + str(row[\"availableBikes\"])  + \"<br></br>\" + \n",
    "                             \"<strong>Available docks</strong>: \" + str(row[\"availableDocks\"]),\n",
    "                       line_color='yellow', fill_color='red', radius=50)\n",
    "\n",
    "display(fmap)"
   ]
  },
  {
   "cell_type": "code",
   "execution_count": null,
   "metadata": {
    "collapsed": false
   },
   "outputs": [],
   "source": [
    "fmap = folium.Map(location=[40.73, -74], zoom_start=12)\n",
    "\n",
    "# Define marker color of a station depending on `StatusValue` ('In Service' or 'Not In Service')\n",
    "# and marker size depending on `availableBikes` amount\n",
    "def get_color_size(row):\n",
    "    # color is a tuple with (line_color, fill_color)\n",
    "    color = (\"green\", \"blue\") if row[\"statusValue\"] == 'In Service' else (\"yellow\", \"red\")\n",
    "    size = row[\"availableBikes\"]*3 + 10\n",
    "    return color, size\n",
    "\n",
    "for name, row in citibike.iterrows():\n",
    "    color, size = get_color_size(row)\n",
    "    fmap.circle_marker(location=[row[\"latitude\"], row[\"longitude\"]], \n",
    "                       # html formatted popup text\n",
    "                       popup=\"<strong>Address: </strong>\" + row[\"stAddress1\"] + \"<br></br>\" + \n",
    "                             \"<strong>Available bikes</strong>: \" + str(row[\"availableBikes\"])  + \"<br></br>\" + \n",
    "                             \"<strong>Available docks</strong>: \" + str(row[\"availableDocks\"]),\n",
    "                       line_color=color[0], fill_color=color[1], radius=size)\n",
    "\n",
    "display(fmap)"
   ]
  },
  {
   "cell_type": "markdown",
   "metadata": {
    "collapsed": true
   },
   "source": [
    "It would be pretty cool to see all the air routes on a map. Luckily, we can use basemap to do this. We’ll draw great circles connecting source and destination airports. Each circle will show the route of a single airliner. Unfortunately, there are so many routes that showing them all would be a mess. Instead, we’ll show the first 2000 routes."
   ]
  },
  {
   "cell_type": "code",
   "execution_count": null,
   "metadata": {
    "collapsed": false
   },
   "outputs": [],
   "source": [
    "themap = Basemap(projection='robin', resolution = 'c', area_thresh = 10000.0, lat_0=0, lon_0=-90)\n",
    " \n",
    "themap.fillcontinents(color='lightgray', lake_color='lightblue')\n",
    "themap.drawmapboundary(fill_color='lightblue')\n",
    "themap.drawcountries()\n",
    "themap.drawcoastlines()\n",
    "\n",
    "# Iterate through the first 2000 rows\n",
    "for name, row in routes[:2000].iterrows():\n",
    "    try:\n",
    "        # Get the source and destination airports\n",
    "        source = airports[airports[\"airport_id\"] == row[\"source_airport_id\"]].iloc[0]\n",
    "        dest = airports[airports[\"airport_id\"] == row[\"destination_airport_id\"]].iloc[0]\n",
    "        # Draw a great circle between source and dest airports\n",
    "        themap.drawgreatcircle(source[\"lon\"], source[\"lat\"], \n",
    "                               dest[\"lon\"], dest[\"lat\"],\n",
    "                               linewidth=1, color='b')\n",
    "    except (ValueError, IndexError):\n",
    "        pass\n",
    "\n",
    "plt.show()"
   ]
  },
  {
   "cell_type": "markdown",
   "metadata": {
    "collapsed": true
   },
   "source": [
    "IPython Notebook provides wonderfull tools `widgets` for managing of displayed results. We will use this functional to write the code, wich will draw a new map with routes between source airport (this airport you will select yourself by typing its name or id in special text field) and all destignation airports. But let's consider before a few examples demonstrating the usage of `widgets`."
   ]
  },
  {
   "cell_type": "code",
   "execution_count": null,
   "metadata": {
    "collapsed": false
   },
   "outputs": [],
   "source": [
    "# Example 1\n",
    "from ipywidgets import interact\n",
    "\n",
    "def f(x):\n",
    "    print \"Move slider to change this {} text\".format(x)\n",
    "\n",
    "interact(f, x=10)"
   ]
  },
  {
   "cell_type": "code",
   "execution_count": null,
   "metadata": {
    "collapsed": false
   },
   "outputs": [],
   "source": [
    "from IPython.display import clear_output\n",
    "\n",
    "x = np.arange(0, 2*np.pi, 0.001)\n",
    "\n",
    "def plot_sin_cos(amplitude, period):\n",
    "    plt.plot(x, amplitude * np.sin(2*np.pi*x*period), 'r-')\n",
    "    plt.plot(x, np.cos(2*np.pi*x*period), 'b--')\n",
    "    clear_output(wait=True)\n",
    "    display(plt.show())\n",
    "    \n",
    "interact(plot_sin_cos, amplitude=(0.1, 5.0, 0.1), period=(0.1, 5.0, 0.1))"
   ]
  },
  {
   "cell_type": "code",
   "execution_count": null,
   "metadata": {
    "collapsed": false
   },
   "outputs": [],
   "source": [
    "# Example 2\n",
    "from ipywidgets import widgets \n",
    "\n",
    "print 'This element contains uppercased text from the bottom text element.'\n",
    "# Display the text widget\n",
    "outputText = widgets.Text()  \n",
    "outputText"
   ]
  },
  {
   "cell_type": "code",
   "execution_count": null,
   "metadata": {
    "collapsed": false
   },
   "outputs": [],
   "source": [
    "def uppercase(sender):\n",
    "    outputText.value = inputText.value.upper()\n",
    "    \n",
    "print 'Type some text here and it will appear in upper text element and \"Enter\" clicking.'\n",
    "# Display the text widget\n",
    "inputText = widgets.Text()\n",
    "# Add event listener which activates at \"Enter\" clicking\n",
    "inputText.on_submit(uppercase)\n",
    "inputText"
   ]
  },
  {
   "cell_type": "code",
   "execution_count": null,
   "metadata": {
    "collapsed": true
   },
   "outputs": [],
   "source": [
    "# Example 3\n",
    "def on_button_clicked(event):\n",
    "    # transform a text to its palindrome\n",
    "    text.value = text.value[::-1]\n",
    "    \n",
    "# Display the text widget\n",
    "text = widgets.Text(description=\"Type some text here:\", width=200)  \n",
    "display(text)\n",
    "\n",
    "#add button that updates the graph based on the checkboxes\n",
    "button = widgets.Button(description=\"Transform input text\")\n",
    "display(button)\n",
    "\n",
    "# Add event listener which activates at click on button\n",
    "button.on_click(on_button_clicked)  "
   ]
  },
  {
   "cell_type": "code",
   "execution_count": null,
   "metadata": {
    "collapsed": false
   },
   "outputs": [],
   "source": [
    "# And now we may implement our plan about updated map\n",
    "def get_routes_for_airport(sender):\n",
    "    # Draw the map\n",
    "    themap = Basemap(projection='robin', resolution = 'c', area_thresh = 10000.0, lat_0=0, lon_0=10)\n",
    "    themap.fillcontinents(color='lightgray', lake_color='lightblue')\n",
    "    themap.drawmapboundary(fill_color='lightblue')\n",
    "    themap.drawcountries()\n",
    "    themap.drawcoastlines()\n",
    "\n",
    "    text = inputAirportIdentificator.value.lower()\n",
    "    # Check if ID was typed\n",
    "    try:\n",
    "        text = int(text)\n",
    "    except ValueError:\n",
    "        pass\n",
    "    \n",
    "    # Find the airport by ID or `name`\n",
    "    if isinstance(text, int):\n",
    "        source = airports[airports[\"airport_id\"] == text].iloc[0]\n",
    "        condition = lambda row: row[\"source_airport_id\"] == text\n",
    "    else:\n",
    "        source = airports[airports[\"name\"].apply(lambda x: x.lower()) == text].iloc[0]\n",
    "        text = source['airport_id']\n",
    "    \n",
    "    # If there are more then one the same source and destination airports\n",
    "    # we won't draw this trajectory again\n",
    "    exist = []\n",
    "    \n",
    "    # Find all destination airports where source airport is `source`\n",
    "    for name, row in routes.iterrows():\n",
    "        if row[\"source_airport_id\"] == text and row['destination_airport_id'] not in exist:\n",
    "            try:\n",
    "                # Get the destination airport\n",
    "                dest = airports[airports[\"airport_id\"] == row[\"destination_airport_id\"]].iloc[0]\n",
    "                # Draw a great circle between source and dest airports.\n",
    "                themap.drawgreatcircle(source[\"lon\"], source[\"lat\"], \n",
    "                                       dest[\"lon\"], dest[\"lat\"],\n",
    "                                       linewidth=1, color='b'\n",
    "                                      )\n",
    "                exist.append(row['destination_airport_id'])\n",
    "            except (ValueError, IndexError):\n",
    "                pass\n",
    "    \n",
    "    # Delete the previous map if it is build\n",
    "    clear_output(wait=True)\n",
    "    display(plt.show())\n",
    "\n",
    "inputAirportIdentificator = widgets.Text(description=\"Type airport name or ID:\", width=400) \n",
    "display(inputAirportIdentificator)\n",
    "inputAirportIdentificator.on_submit(get_routes_for_airport)"
   ]
  },
  {
   "cell_type": "markdown",
   "metadata": {
    "collapsed": true
   },
   "source": [
    "Often very informative geovisualization can be reached with the help of globes. `basemap` also provides the possibility of the globe using. Let's build an interactive rotating globe where we random 100 airports with the help of markers. "
   ]
  },
  {
   "cell_type": "code",
   "execution_count": null,
   "metadata": {
    "collapsed": false
   },
   "outputs": [],
   "source": [
    "import numpy as np\n",
    "\n",
    "# Random choice of 100 rows from `airports` DataFrame \n",
    "array = []\n",
    "for i, row in airports.sample(100).iterrows():\n",
    "    array.append((row['lon'], row['lat']))\n",
    "    \n",
    "# Change the size of the image for globe\n",
    "plt.rcParams['figure.figsize'] = (8, 8)\n",
    "\n",
    "def globe(lon, lat):\n",
    "    themap = Basemap(projection='ortho', lon_0=lon, lat_0=lat, resolution='c', area_thresh=10000.0)\n",
    "    \n",
    "    themap.drawcoastlines()\n",
    "    themap.fillcontinents(color='coral', lake_color='lightblue')\n",
    "    themap.drawparallels(np.arange(-80.,81.,20.))\n",
    "    themap.drawmeridians(np.arange(-180.,180.,20.))\n",
    "    themap.drawmapboundary(fill_color='lightblue')\n",
    "    themap.drawcountries()\n",
    "    \n",
    "    # Add markers\n",
    "    for i in array:\n",
    "        x, y = themap(i[0], i[1])\n",
    "        themap.plot(x, y, 'o', color=\"blue\", markersize=8)\n",
    "    \n",
    "    plt.title(\"Rotatable globe\")\n",
    "    clear_output(wait=True)\n",
    "    display(plt.show())\n",
    "    \n",
    "interact(globe, lon=(-180,180,1), lat=(-90,90,1))"
   ]
  },
  {
   "cell_type": "markdown",
   "metadata": {
    "collapsed": true
   },
   "source": [
    "---\n",
    "## Exercises\n",
    "---"
   ]
  },
  {
   "cell_type": "markdown",
   "metadata": {
    "collapsed": true
   },
   "source": [
    "## Exercise #1: \n",
    "\n",
    "> `basemap`'s method `shadedrelief(scale=0.1, origin='lower')` allows drawing maps with Earth relief. Note, attributes in brackets correspond to minimal performance requirements. Find TOP 10 airports wich are situated on the greatest height and TOP 10 airports with the lowest altitude. Display the list of this airports showing its name and country. Also draw the map of Miller projection (`projection=\"mill\"`) using `shadedrelief()` method and show these airports using colored markers. The marker's color depends on the airport's altitude and can be defined with the help of `get_marker_color(altitude)` function which we have used earlier. Marker's size is 10 units. As result, you should get the map like this:\n",
    "\n",
    "> <img src=\"images/ex1.png\">"
   ]
  },
  {
   "cell_type": "markdown",
   "metadata": {
    "collapsed": true
   },
   "source": [
    "## Exercise #2: \n",
    "\n",
    "> `routes` DataFrame contains many routes between two airports. Let's caclulate its lengths and draw, for example, 10 the longest of them trajectories on the map (you may choice projection, resolution, etc. yourself). \n",
    "\n",
    ">In order to do this, you need to first calculate route lengths. We may use [haversine distance](https://en.wikipedia.org/wiki/Haversine_formula), which calculates the distance between latitude, longitude pairs (in our case, between latitude and longitude values of source and destination airports):\n",
    "$$d = 2 r \\arcsin\\left(\\sqrt{\\sin^2\\left(\\frac{\\varphi_2 - \\varphi_1}{2}\\right) + \\cos(\\varphi_1) \\cos(\\varphi_2)\\sin^2\\left(\\frac{\\lambda_2 - \\lambda_1}{2}\\right)}\\right),$$\n",
    "$\\varphi_1$ and $\\varphi_2$: latitude of point 1 and latitude of point 2; <br></br>\n",
    "$\\lambda_1$ and $\\lambda_2$: longitude of point 1 and longitude of point 2; <br></br>\n",
    "let's consider the average Earth radius $r$ is equal to 6367 km. "
   ]
  },
  {
   "cell_type": "markdown",
   "metadata": {
    "collapsed": true
   },
   "source": [
    "## Exercise #3: \n",
    "\n",
    "> Find TOP 10 countries with the largest and the lowest amounts of airports on their territory and show all airports of these countries using markers on the `folium` map. Circle markers correspond to TOP 10 countries with the largest amount and diamond markers define TOP 10 countries with the lowest amount of airports. Red markers should denote the airports which have no connections with some others, i.e. thay are absent in `routes` DataFrames; blue markers correspond to all others. Marker's size is fixed and equals, for example, to 1000."
   ]
  },
  {
   "cell_type": "code",
   "execution_count": null,
   "metadata": {
    "collapsed": true
   },
   "outputs": [],
   "source": []
  }
 ],
 "metadata": {
  "kernelspec": {
   "display_name": "Python 2",
   "language": "python",
   "name": "python2"
  },
  "language_info": {
   "codemirror_mode": {
    "name": "ipython",
    "version": 2
   },
   "file_extension": ".py",
   "mimetype": "text/x-python",
   "name": "python",
   "nbconvert_exporter": "python",
   "pygments_lexer": "ipython2",
   "version": "2.7.6"
  }
 },
 "nbformat": 4,
 "nbformat_minor": 0
}
