{
 "cells": [
  {
   "cell_type": "markdown",
   "metadata": {},
   "source": [
    "## LinkedIn OAuth 2.0 Flow with IPython Notebook\n",
    "\n",
    "LinkedIn implements OAuth 2.0 as one of its standard authentication mechanism, and \"Example 3\" demonstrates how to use it to get an access token for making API requests once you've created an app and gotten the \"API Key\" and \"Secret Key\" values that are part of the OAuth flow. Note that you will need an ordinary LinkedIn account in order to login, create an app, and get these credentials. You can create an app through the \"Developer\" section of your account settings as shown below or by navigating directly to https://www.linkedin.com/secure/developer.\n",
    "\n",
    "You must ensure that your browser is not blocking popups in order for this script to work.\n",
    "\n",
    "<img src=\"http://nbviewer.ipython.org/github/furukama/Mining-the-Social-Web-2nd-Edition/blob/master/ipynb/resources/ch03-linkedin/images/LinkedIn-app.png\">\n",
    "\n",
    "\n",
    "### Using LinkedIn OAuth credentials to receive an access token an authorize an application\n",
    "\n",
    "Note: You must ensure that your browser is not blocking popups in order for this script to work. LinkedIn's OAuth flow appears to expressly involve opening a new window, and it does not appear that an inline frame can be used as is the case with some other social web properties. You may also find it very convenient to ensure that you are logged into LinkedIn at http://www.linkedin.com/ with this browser before executing this script, because the OAuth flow will prompt you every time you run it if you are not already logged in. If for some reason you cause IPython Notebook to hang, just select \"Kernel => Interrupt\" from its menu."
   ]
  },
  {
   "cell_type": "code",
   "execution_count": null,
   "metadata": {
    "collapsed": false
   },
   "outputs": [],
   "source": [
    "import os\n",
    "from threading import Timer\n",
    "from flask import Flask, request\n",
    "from linkedin import linkedin\n",
    "from IPython.display import display\n",
    "from IPython.display import Javascript as JS\n",
    "\n",
    "# XXX: Get these values from your application's settings for the OAuth flow\n",
    "\n",
    "CONSUMER_KEY = ''\n",
    "CONSUMER_SECRET = ''\n",
    "\n",
    "# This value is where LinkedIn will redirect. We'll configure an embedded\n",
    "# web server to be serving requests here\n",
    "\n",
    "RETURN_URL = 'http://ipython.ipeirotis.com:5000/oauth_helper'\n",
    "\n",
    "# A temporary file to store a code from the web server\n",
    "OAUTH_FILE = '/home/ubuntu/data/linkedin.authorization_code'\n",
    "\n",
    "# Configure an emedded web server that accepts one request, stores a file\n",
    "# that will need to be accessed outside of the request context, and \n",
    "# immediately shuts itself down\n",
    "\n",
    "webserver = Flask(\"OAuthHelper\")\n",
    "@webserver.route(\"/oauth_helper\")\n",
    "def oauth_helper():\n",
    "    code = request.args.get('code')\n",
    "    f = open(OAUTH_FILE, 'w') # Store the code as a file\n",
    "    f.write(code)\n",
    "    f.close()\n",
    "    shutdown_after_request = request.environ.get('werkzeug.server.shutdown')\n",
    "    shutdown_after_request()\n",
    "    return \"\"\"<p>Handled redirect and extracted code <strong>%s</strong> \n",
    "                 for authorization</p>\"\"\" % (code,)\n",
    "\n",
    "# Send an OAuth request to LinkedIn, handle the redirect, and display the access\n",
    "# token that's included in the redirect for the user to copy and paste\n",
    "\n",
    "auth = linkedin.LinkedInAuthentication(CONSUMER_KEY, CONSUMER_SECRET, RETURN_URL, \n",
    "                                       linkedin.PERMISSIONS.enums.values())\n",
    "\n",
    "# Display popup after a brief delay to ensure that the web server is running and \n",
    "# can handle the redirect back from LinkedIn\n",
    "\n",
    "Timer(1, lambda: display(JS(\"window.open('%s')\" % auth.authorization_url))).start()\n",
    "\n",
    "# Run the server to accept the redirect back from LinkedIn and capture the access\n",
    "# token. This command blocks, but the web server is configured to shut itself down\n",
    "# after it serves a request, so after the redirect occurs, program flow will continue\n",
    "\n",
    "webserver.run(host='0.0.0.0')\n",
    "\n",
    "# As soon as the request finishes, the web server shuts down and these remaining commands\n",
    "# are executed, which exchange an authorization code for an access token. This process\n",
    "# seems to need full automation because the authorization code expires very quickly.\n",
    "\n",
    "auth.authorization_code = open(OAUTH_FILE).read()\n",
    "auth.get_access_token()\n",
    "\n",
    "# Prevent stale tokens from sticking around, which could complicate debugging\n",
    "os.remove(OAUTH_FILE)\n",
    "\n",
    "\n",
    "# How you can use the application to access the LinkedIn API...\n",
    "app = linkedin.LinkedInApplication(auth)\n",
    "print app.get_profile()"
   ]
  },
  {
   "cell_type": "code",
   "execution_count": null,
   "metadata": {
    "collapsed": false
   },
   "outputs": [],
   "source": []
  }
 ],
 "metadata": {
  "kernelspec": {
   "display_name": "Python 2",
   "language": "python",
   "name": "python2"
  },
  "language_info": {
   "codemirror_mode": {
    "name": "ipython",
    "version": 2
   },
   "file_extension": ".py",
   "mimetype": "text/x-python",
   "name": "python",
   "nbconvert_exporter": "python",
   "pygments_lexer": "ipython2",
   "version": "2.7.6"
  }
 },
 "nbformat": 4,
 "nbformat_minor": 0
}
