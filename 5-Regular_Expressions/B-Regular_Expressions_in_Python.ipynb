{
 "cells": [
  {
   "cell_type": "markdown",
   "metadata": {},
   "source": [
    "\n",
    "\n",
    "\n",
    "\n",
    "\n",
    "\n",
    "\n",
    "Regular Expressions\n",
    "-------------------\n",
    "\n",
    "This document will present basic regular expression syntax and cover common use cases for regular expressions: pattern matching, filtering, data extraction, and string replacement. \n",
    "\n",
    "We will present examples using python’s standard [re regular expression library](http://docs.python.org/library/re.html).\n",
    "\n",
    "You may also want to look at this [*excellent* tutorial from Google](https://developers.google.com/edu/python/regular-expressions).\n"
   ]
  },
  {
   "cell_type": "markdown",
   "metadata": {},
   "source": [
    "### Basic Patterns\n",
    "\n",
    "* a, X, 9, < -- ordinary characters just match themselves exactly. The meta-characters which do not match themselves because they have special meanings are: . ^ \\$ * + ? { [ ] \\ | ( ) (details below)\n",
    "* . (a period) -- matches any single character except newline '\\n'\n",
    "* \\w -- (lowercase w) matches a \"word\" character: a letter or digit or underbar [a-zA-Z0-9_]. Note that although \"word\" is the mnemonic for this, it only matches a single word char, not a whole word. \\W (upper case W) matches any non-word character.\n",
    "* \\b -- boundary between word and non-word\n",
    "* \\s -- (lowercase s) matches a single whitespace character -- space, newline, return, tab, form [ \\n\\r\\t\\f]. \\S (upper case S) matches any non-whitespace character.\n",
    "* \\t, \\n, \\r -- tab, newline, return\n",
    "* \\d -- decimal digit [0-9] (some older regex utilities do not support but \\d, but they all support \\w and \\s)\n",
    "* ^ = start, $ = end -- match the start or end of the string\n",
    "* \\ -- inhibit the \"specialness\" of a character. So, for example, use \\. to match a period or \\\\ to match a slash. If you are unsure if a character has special meaning, such as '@', you can put a slash in front of it, \\@, to make sure it is treated just as a character."
   ]
  },
  {
   "cell_type": "markdown",
   "metadata": {},
   "source": [
    "### Searching strings using regexes"
   ]
  },
  {
   "cell_type": "code",
   "execution_count": 2,
   "metadata": {
    "collapsed": false
   },
   "outputs": [],
   "source": [
    "# first import the library\n",
    "import re"
   ]
  },
  {
   "cell_type": "code",
   "execution_count": 3,
   "metadata": {
    "collapsed": false
   },
   "outputs": [
    {
     "name": "stdout",
     "output_type": "stream",
     "text": [
      "Dealing with Data\n"
     ]
    }
   ],
   "source": [
    "# Regular expressions are compiled into pattern objects\n",
    "regex = re.compile(r'D.*Data')\n",
    "text = \"Panos Ipeirotis, Dealing with Data, 212-998-0803, panos@nyu.edu\"\n",
    "match = regex.search(text)\n",
    "print match.group()"
   ]
  },
  {
   "cell_type": "code",
   "execution_count": 4,
   "metadata": {
    "collapsed": false
   },
   "outputs": [
    {
     "name": "stdout",
     "output_type": "stream",
     "text": [
      "brandenburger@stern.nyu.edu\n"
     ]
    }
   ],
   "source": [
    "regex = re.compile(r'[a-z]*@([a-z])+(.[a-z]+)+')\n",
    "text = \"adam.brandenburger@stern.nyu.edu\"\n",
    "match = regex.search(text)\n",
    "print match.group()"
   ]
  },
  {
   "cell_type": "code",
   "execution_count": 5,
   "metadata": {
    "collapsed": false
   },
   "outputs": [
    {
     "name": "stdout",
     "output_type": "stream",
     "text": [
      "1101110100011\n"
     ]
    }
   ],
   "source": [
    "regex = re.compile(r'^([10]*|(0)+)')\n",
    "text = \"1101110100011\"\n",
    "match = regex.search(text)\n",
    "print match.group() "
   ]
  },
  {
   "cell_type": "code",
   "execution_count": null,
   "metadata": {
    "collapsed": false
   },
   "outputs": [],
   "source": [
    "regex = re.compile(r'^\\$?(\\d*(\\.\\d\\d?)?|\\d+)$')\n",
    "text = \n",
    "match = regex.search(text)\n",
    "print match.group()"
   ]
  },
  {
   "cell_type": "markdown",
   "metadata": {},
   "source": [
    "When the regular expression does not find anything, then the search function returns `None`, which can cause an error in the code above:"
   ]
  },
  {
   "cell_type": "code",
   "execution_count": null,
   "metadata": {
    "collapsed": false
   },
   "outputs": [],
   "source": [
    "str = 'an example word:cat!!'\n",
    "match = re.search(r'word:\\w\\w\\w', str)\n",
    "# If-statement after search() tests if it succeeded\n",
    "if match:                      \n",
    "    print 'found', match.group() ## 'found word:cat'\n",
    "else:\n",
    "    print 'did not find'"
   ]
  },
  {
   "cell_type": "code",
   "execution_count": null,
   "metadata": {
    "collapsed": false
   },
   "outputs": [],
   "source": [
    "# This code is going to generate an error\n",
    "regex = re.compile(r'Ra*nd.*m R[egex]')\n",
    "text = \"Panos Ipeirotis, Dealing with Data, 212-998-0803, panos@nyu.edu\"\n",
    "match = regex.search(text)\n",
    "print match.group()"
   ]
  },
  {
   "cell_type": "markdown",
   "metadata": {},
   "source": [
    "Therefore, we need to check that the returned object is not None, before trying to access a method of the object. The `None` value within the context of an `if` conditional gets translated to `False`; hence, we can modify the code above as follows:"
   ]
  },
  {
   "cell_type": "code",
   "execution_count": null,
   "metadata": {
    "collapsed": false
   },
   "outputs": [],
   "source": [
    "# Regular expressions are compiled into pattern objects\n",
    "regex = re.compile(r'Ra*nd.*m R[egex]')\n",
    "text = \"Panos Ipeirotis, Dealing with Data, 212-998-0803, panos@nyu.edu\"\n",
    "match = regex.search(text)\n",
    "if match:\n",
    "    print match.group()\n",
    "else:\n",
    "    print \"not found\""
   ]
  },
  {
   "cell_type": "markdown",
   "metadata": {},
   "source": [
    "### Flags for regexes: Case-sentitivity and multiline searches"
   ]
  },
  {
   "cell_type": "markdown",
   "metadata": {},
   "source": [
    "Regular expressions are typically case-sensitive. "
   ]
  },
  {
   "cell_type": "code",
   "execution_count": null,
   "metadata": {
    "collapsed": false
   },
   "outputs": [],
   "source": [
    "# Regular expressions are compiled into pattern objects\n",
    "# Regular expressions are case-sensitive\n",
    "regex = re.compile(r'I.*IS')\n",
    "text = \"Panos Ipeirotis, Dealing with Data, 212-998-0803, panos@nyu.edu\"\n",
    "match = regex.search(text)\n",
    "if match:\n",
    "    print match.group()\n",
    "else:\n",
    "    print \"not found\""
   ]
  },
  {
   "cell_type": "markdown",
   "metadata": {},
   "source": [
    "But we can specify that they are case-insensitive, using the flag re.IGNORECASE"
   ]
  },
  {
   "cell_type": "code",
   "execution_count": null,
   "metadata": {
    "collapsed": false
   },
   "outputs": [],
   "source": [
    "# Unless we specify that they are case-insensitive, using the flag re.IGNORECASE\n",
    "regex = re.compile('I.*IS',re.IGNORECASE)\n",
    "text = \"Panos Ipeirotis, Dealing with Data, 212-998-0803, panos@nyu.edu\"\n",
    "match = regex.search(text)\n",
    "if match:\n",
    "    print match.group()\n",
    "else:\n",
    "    print \"not found\""
   ]
  },
  {
   "cell_type": "markdown",
   "metadata": {},
   "source": [
    " For a full list of available flags, please see the [re documentation](http://docs.python.org/library/re.html)."
   ]
  },
  {
   "cell_type": "markdown",
   "metadata": {},
   "source": [
    "### Multiple matches in a string"
   ]
  },
  {
   "cell_type": "markdown",
   "metadata": {},
   "source": [
    "The search command goes through the string to find the longest expression that matches the regex\n",
    "and once it finds the first match, it stops. For example, we will not get the second phone number"
   ]
  },
  {
   "cell_type": "code",
   "execution_count": null,
   "metadata": {
    "collapsed": false
   },
   "outputs": [],
   "source": [
    "# The search command goes through the string to find the longest expression that matches the regex\n",
    "# and once it finds the first match, it stops. For example, we will not get the second phone number\n",
    "regex = re.compile('[0-9]{3}-[0-9]{3}-[0-9]{4}')\n",
    "text = \"Panos Ipeirotis, Dealing with Data, 212-998-0803, panos@nyu.edu, 646-555-5555\"\n",
    "match = regex.search(text)\n",
    "if match:\n",
    "    print match.group()\n",
    "else:\n",
    "    print \"not found\""
   ]
  },
  {
   "cell_type": "markdown",
   "metadata": {},
   "source": [
    "If we want to find multiple matches within the string, then we use the `finditer` command that returns a collection of `MatchObject` items. (For comparison, `search` returns just the first `MatchObject` item.)"
   ]
  },
  {
   "cell_type": "code",
   "execution_count": null,
   "metadata": {
    "collapsed": false
   },
   "outputs": [],
   "source": [
    "# The finditer command goes through the string to find the all the expressions that matches the regex\n",
    "regex = re.compile(r'[0-9]{3}-[0-9]{3}-[0-9]{4}')\n",
    "text = \"Panos Ipeirotis, Dealing with Data, 212-998-0803, panos@nyu.edu, 646-555-5555\"\n",
    "matches = regex.finditer(text)\n",
    "for m in matches:\n",
    "    print \"Starts at:\", m.start(), \"Ends at:\", m.end(), \"Content:\", m.group()"
   ]
  },
  {
   "cell_type": "markdown",
   "metadata": {},
   "source": [
    "### Extracting Data -- where regex start to get really cool\n",
    "\n",
    "In addition to simple matching and filtering, many regular expressions implementations, including python’s re, provide a powerful mechanism for extracting meaningful data from raw text. Through capturing, those strings that satisfy a particular regular expression are extracted from the text being matched, and returned to the program processing the raw data. The portion of regular expressions that should be captured is surrounded by parentheses, `\"( )\"`. Then, provided the regular expression containing the capturing statement is satisfied, the result of the regular expression will contain a group of text matching patterns. This group method gets the results of the portions of the input text matched by the capturing statements in the regular expression. The matches are indexed from one-- to get the portion of the text matched by first capturing statement, you could query `result.group(1)`, the second parentheses will have its match stored in `result.group(2)`, etc. The value stored at `result.group(0)`, is the entire portion of the input string matched by the regular expression, not just the portion satisfying the capturing parentheses.\n",
    "\n",
    "As example of data extraction using capturing regular expressions, say we’re scanning some raw text for phone numbers that we wish to retain for later processing. We might try something like:"
   ]
  },
  {
   "cell_type": "code",
   "execution_count": null,
   "metadata": {
    "collapsed": false
   },
   "outputs": [],
   "source": [
    "raw_text = r\"\"\"512-234-5234\n",
    "foo\n",
    "bar\n",
    "124-512-5555\n",
    "biz\n",
    "125-555-5785\n",
    "679-397-5255\n",
    "2126660921\n",
    "212-998-0902\n",
    "888-888-2222\n",
    "801-555-1211\n",
    "802 555 1212\n",
    "803.555.1213\n",
    "(804) 555-1214\n",
    "1-805-555-1215\n",
    "1(806)555-1216\n",
    "807-555-1217-1234\n",
    "808-555-1218x1234\n",
    "809-555-1219 ext. 1234\n",
    "work 1-(810) 555.1220 #1234\n",
    "\"\"\"\n",
    "\n",
    "# Notice now that each part of the phone is included in parentheses\n",
    "# allowing us to grab individual part of the phone number\n",
    "regex = re.compile(r'([2-9]\\d{2})\\W*(\\d{3})\\W*(\\d{4})')\n",
    "matches = regex.finditer(raw_text)\n",
    "\n",
    "for m in matches:\n",
    "    print \"(\", m.group(1) , \")\",m.group(2), \"-\", m.group(3)\n"
   ]
  },
  {
   "cell_type": "markdown",
   "metadata": {},
   "source": [
    "(See also http://www.diveintopython.net/regular_expressions/phone_numbers.html if you want to see further examples.)\n",
    "\n",
    "The examples will look like gobbledygook at first.  But after you go through some actual cases, and especially after you struggle to write a few for a real data science task, you will realize that you're not in Kansas any longer.  Now get ready for a horse of a different color..."
   ]
  },
  {
   "cell_type": "markdown",
   "metadata": {},
   "source": [
    "### String Replacement\n",
    "\n",
    "In addition to matching and extraction, regular expressions can be used to change data--especially unstructured text--in very powerful ways.  In particular, regex allow you to find specific patterns and then replace them with specified strings. \n",
    "\n",
    "As a data scientist, this is useful when trying to get data formated correctly as input to a specific system, such as when doing data cleanup.\n",
    "\n",
    "In python’s re library, the function used for replacement is `sub()` (think \"substitute\"). \n",
    "\n",
    "The pattern for invoking `sub()` is \n",
    "\n",
    "`re.sub(regex, replacement, text)`\n",
    "\n",
    "This will return a version of text where all instances of the regex have been substituted with replacement.\n",
    "\n",
    "Imagine we want to conceal all phone numbers in a document. We could use the following call to `sub()`:"
   ]
  },
  {
   "cell_type": "code",
   "execution_count": null,
   "metadata": {
    "collapsed": false
   },
   "outputs": [],
   "source": [
    "raw_text = \"\"\"512-234-5234\n",
    "foo\n",
    "bar\n",
    "124-512-5555\n",
    "biz\n",
    "125-555-5785\n",
    "679-397-5255\n",
    "2126660921\n",
    "212-998-0902\n",
    "888-888-2222\n",
    "801-555-1211\n",
    "802 555 1212\n",
    "803.555.1213\n",
    "(804) 555-1214\n",
    "1-805-555-1215\n",
    "1(806)555-1216\n",
    "807-555-1217-1234\n",
    "808-555-1218x1234\n",
    "809-555-1219 ext. 1234\n",
    "work 1-(810) 555.1220 #1234\n",
    "\"\"\"\n",
    "\n",
    "regex = re.compile('([0-9]{3})\\W*([0-9]{3})\\W*([0-9]{4})')\n",
    "\n",
    "newstring = re.sub(regex, \"XXX-XXX-XXXX\", raw_text)\n",
    "\n",
    "print newstring"
   ]
  },
  {
   "cell_type": "markdown",
   "metadata": {},
   "source": [
    "When performing substitution, matches found using the capturing mechanism are available to the replacement using `\\1`, `\\2`, and so on, as shortcuts to `group(1)`, `group(2)`, etc. \n",
    "\n",
    "In order to use this back-referencing capability, we need to tell the `sub()` mechanism to treat the replacement string as a regular expression. For instance, if we want to make sure all phone numbers are normalized and all area codes are surrounded by parentheses, we can use:"
   ]
  },
  {
   "cell_type": "code",
   "execution_count": null,
   "metadata": {
    "collapsed": false
   },
   "outputs": [],
   "source": [
    "print re.sub(regex, r\"(\\1)-\\2-\\3\", raw_text)"
   ]
  },
  {
   "cell_type": "markdown",
   "metadata": {},
   "source": [
    "### Exercise"
   ]
  },
  {
   "cell_type": "markdown",
   "metadata": {},
   "source": [
    "Find all the emails in a webpage. \n",
    "\n",
    "Since we have not covered yet the networking abilities of Python (coming next), just use curl to fetch the HTML source of the page. Remember that you can either store the outcome of curl into a file and then read the file into Python, or (preferable) directly get the output of curl into a Python variable.\n",
    "\n",
    "Then you will need to write the right regex and write the code that finds emails in the retrieved html."
   ]
  },
  {
   "cell_type": "code",
   "execution_count": null,
   "metadata": {
    "collapsed": false
   },
   "outputs": [],
   "source": [
    "#your code here\n",
    "html = !curl -s 'http://www.stern.nyu.edu/faculty/search_name_form'\n",
    "print html"
   ]
  },
  {
   "cell_type": "code",
   "execution_count": null,
   "metadata": {
    "collapsed": false
   },
   "outputs": [],
   "source": [
    "# Notice now that each part of the phone is included in parentheses\n",
    "# allowing us to grab individual part of the phone number\n",
    "regex = re.compile(r'[a-z0-9]+@([a-z0-9]+\\.)+[a-z]+')\n",
    "\n",
    "emails = set()\n",
    "for line in html:\n",
    "    matches = regex.finditer(line)\n",
    "    for m in matches:\n",
    "        print m.group()\n",
    "        emails.add(m.group())\n",
    "\n",
    "print len(emails)\n"
   ]
  },
  {
   "cell_type": "code",
   "execution_count": null,
   "metadata": {
    "collapsed": false
   },
   "outputs": [],
   "source": [
    "html = !curl -s 'http://www.stern.nyu.edu/faculty/search_name_form'\n",
    "regex = re.compile(r'[a-z0-9]+@([a-z0-9]+\\.)+[a-z]+')\n",
    "emails = set([m.group() for line in html for m in regex.finditer(line) ])\n",
    "emails"
   ]
  },
  {
   "cell_type": "code",
   "execution_count": null,
   "metadata": {
    "collapsed": true
   },
   "outputs": [],
   "source": []
  }
 ],
 "metadata": {
  "kernelspec": {
   "display_name": "Python 2",
   "language": "python",
   "name": "python2"
  },
  "language_info": {
   "codemirror_mode": {
    "name": "ipython",
    "version": 2
   },
   "file_extension": ".py",
   "mimetype": "text/x-python",
   "name": "python",
   "nbconvert_exporter": "python",
   "pygments_lexer": "ipython2",
   "version": "2.7.6"
  }
 },
 "nbformat": 4,
 "nbformat_minor": 0
}
